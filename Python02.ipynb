{
 "metadata": {
  "celltoolbar": "Edit Metadata",
  "name": "",
  "signature": "sha256:c6edbc77389f9e77573ec37651199220cf06883d11e8871af206c94d04a2ff38"
 },
 "nbformat": 3,
 "nbformat_minor": 0,
 "worksheets": [
  {
   "cells": [
    {
     "cell_type": "markdown",
     "metadata": {
      "slideshow": {
       "slide_type": "slide"
      }
     },
     "source": [
      "# Nano Data Analysis with Python II\n",
      "\n",
      "\n",
      "\n",
      "\n",
      "## \u8521\u708e\u9f8d\n",
      "\n",
      "### \u653f\u6cbb\u5927\u5b78\u61c9\u7528\u6578\u5b78\u7cfb\n",
      "\n",
      "\n",
      "\n",
      "\n",
      "\n",
      "\n",
      "\n",
      "\n",
      "\n",
      "\n",
      "\n",
      "\n"
     ]
    },
    {
     "cell_type": "code",
     "collapsed": false,
     "input": [
      "%run talktools.py"
     ],
     "language": "python",
     "metadata": {},
     "outputs": [
      {
       "html": [
        "<style>\n",
        "\n",
        ".rendered_html\n",
        "{\n",
        "  color: #2C5494;\n",
        "  font-family: Ubuntu;\n",
        "  font-size: 140%;\n",
        "  line-height: 1.1;\n",
        "  margin: 0.5em 0;\n",
        "  }\n",
        "\n",
        ".title\n",
        "{\n",
        "  color: #498AF3;\n",
        "  font-size: 250%;\n",
        "  font-weight:bold;\n",
        "  line-height: 1.2; \n",
        "  margin: 10px 50px 10px;\n",
        "  }\n",
        "\n",
        ".subtitle\n",
        "{\n",
        "  color: #386BBC;\n",
        "  font-size: 180%;\n",
        "  font-weight:bold;\n",
        "  line-height: 1.2; \n",
        "  margin: 20px 50px 20px;\n",
        "  }\n",
        "\n",
        ".slide-header, p.slide-header\n",
        "{\n",
        "  color: #498AF3;\n",
        "  font-size: 200%;\n",
        "  font-weight:bold;\n",
        "  margin: 0px 20px 10px;\n",
        "  page-break-before: always;\n",
        "  text-align: center;\n",
        "  }\n",
        "\n",
        ".rendered_html h1\n",
        "{\n",
        "  color: #498AF3;\n",
        "  line-height: 1.2; \n",
        "  margin: 0.15em 0em 0.5em;\n",
        "  page-break-before: always;\n",
        "  text-align: center;\n",
        "  }\n",
        "\n",
        "\n",
        ".rendered_html h2\n",
        "{ \n",
        "  color: #386BBC;\n",
        "  line-height: 1.2;\n",
        "  margin: 1.1em 0em 0.5em;\n",
        "  }\n",
        "\n",
        ".rendered_html h3\n",
        "{ \n",
        "  font-size: 100%;\n",
        "  line-height: 1.2;\n",
        "  margin: 1.1em 0em 0.5em;\n",
        "  }\n",
        "\n",
        ".rendered_html li\n",
        "{\n",
        "  line-height: 1.8;\n",
        "  }\n",
        "\n",
        ".input_prompt, .CodeMirror-lines, .output_area\n",
        "{\n",
        "  font-family: Consolas;\n",
        "  font-size: 120%;\n",
        "  }\n",
        "\n",
        ".gap-above\n",
        "{\n",
        "  padding-top: 200px;\n",
        "  }\n",
        "\n",
        ".gap01\n",
        "{\n",
        "  padding-top: 10px;\n",
        "  }\n",
        "\n",
        ".gap05\n",
        "{\n",
        "  padding-top: 50px;\n",
        "  }\n",
        "\n",
        ".gap1\n",
        "{\n",
        "  padding-top: 100px;\n",
        "  }\n",
        "\n",
        ".gap2\n",
        "{\n",
        "  padding-top: 200px;\n",
        "  }\n",
        "\n",
        ".gap3\n",
        "{\n",
        "  padding-top: 300px;\n",
        "  }\n",
        "\n",
        ".emph\n",
        "{\n",
        "  color: #386BBC;\n",
        "  }\n",
        "\n",
        ".warn\n",
        "{\n",
        "  color: red;\n",
        "  }\n",
        "\n",
        ".center\n",
        "{\n",
        "  text-align: center;\n",
        "  }\n",
        "\n",
        ".nb_link\n",
        "{\n",
        "    padding-bottom: 0.5em;\n",
        "}\n",
        "\n",
        "</style>\n"
       ],
       "metadata": {},
       "output_type": "display_data",
       "text": [
        "<IPython.core.display.HTML at 0x103e5fc10>"
       ]
      }
     ],
     "prompt_number": 1
    },
    {
     "cell_type": "markdown",
     "metadata": {
      "slideshow": {
       "slide_type": "slide"
      }
     },
     "source": [
      "## 1. list \u7684\u8907\u7fd2\n",
      "\n",
      "Python \u7684 list \u662f\u5f88\u91cd\u8981\u7684\u8cc7\u6599\u578b\u5f0f\u3002"
     ]
    },
    {
     "cell_type": "code",
     "collapsed": false,
     "input": [
      "students = [\"Tom\", \"John\", \"Mary\", \"Jane\"]"
     ],
     "language": "python",
     "metadata": {
      "slideshow": {
       "slide_type": "slide"
      }
     },
     "outputs": [],
     "prompt_number": 2
    },
    {
     "cell_type": "code",
     "collapsed": false,
     "input": [
      "students[3]"
     ],
     "language": "python",
     "metadata": {},
     "outputs": [
      {
       "metadata": {},
       "output_type": "pyout",
       "prompt_number": 3,
       "text": [
        "'Jane'"
       ]
      }
     ],
     "prompt_number": 3
    },
    {
     "cell_type": "code",
     "collapsed": false,
     "input": [
      "students[1:3]"
     ],
     "language": "python",
     "metadata": {},
     "outputs": [
      {
       "metadata": {},
       "output_type": "pyout",
       "prompt_number": 4,
       "text": [
        "['John', 'Mary']"
       ]
      }
     ],
     "prompt_number": 4
    },
    {
     "cell_type": "code",
     "collapsed": false,
     "input": [
      "students[:-2]"
     ],
     "language": "python",
     "metadata": {},
     "outputs": [
      {
       "metadata": {},
       "output_type": "pyout",
       "prompt_number": 5,
       "text": [
        "['Tom', 'John']"
       ]
      }
     ],
     "prompt_number": 5
    },
    {
     "cell_type": "code",
     "collapsed": false,
     "input": [
      "students[-1]"
     ],
     "language": "python",
     "metadata": {},
     "outputs": [
      {
       "metadata": {},
       "output_type": "pyout",
       "prompt_number": 6,
       "text": [
        "'Jane'"
       ]
      }
     ],
     "prompt_number": 6
    },
    {
     "cell_type": "markdown",
     "metadata": {
      "slideshow": {
       "slide_type": "slide"
      }
     },
     "source": [
      "\u571f\u6cd5\u7df4\u92fc\u628a\u5143\u7d20\u52a0\u5165\u4e00\u500b list\u3002"
     ]
    },
    {
     "cell_type": "code",
     "collapsed": false,
     "input": [
      "L = []"
     ],
     "language": "python",
     "metadata": {},
     "outputs": [],
     "prompt_number": 7
    },
    {
     "cell_type": "code",
     "collapsed": false,
     "input": [
      "L.append(3)"
     ],
     "language": "python",
     "metadata": {},
     "outputs": [],
     "prompt_number": 8
    },
    {
     "cell_type": "code",
     "collapsed": false,
     "input": [
      "L"
     ],
     "language": "python",
     "metadata": {},
     "outputs": [
      {
       "metadata": {},
       "output_type": "pyout",
       "prompt_number": 9,
       "text": [
        "[3]"
       ]
      }
     ],
     "prompt_number": 9
    },
    {
     "cell_type": "code",
     "collapsed": false,
     "input": [
      "L.append(7)"
     ],
     "language": "python",
     "metadata": {},
     "outputs": [],
     "prompt_number": 10
    },
    {
     "cell_type": "code",
     "collapsed": false,
     "input": [
      "L"
     ],
     "language": "python",
     "metadata": {},
     "outputs": [
      {
       "metadata": {},
       "output_type": "pyout",
       "prompt_number": 11,
       "text": [
        "[3, 7]"
       ]
      }
     ],
     "prompt_number": 11
    },
    {
     "cell_type": "code",
     "collapsed": false,
     "input": [
      "L.append(\"dog\")"
     ],
     "language": "python",
     "metadata": {},
     "outputs": [],
     "prompt_number": 12
    },
    {
     "cell_type": "code",
     "collapsed": false,
     "input": [
      "L"
     ],
     "language": "python",
     "metadata": {},
     "outputs": [
      {
       "metadata": {},
       "output_type": "pyout",
       "prompt_number": 13,
       "text": [
        "[3, 7, 'dog']"
       ]
      }
     ],
     "prompt_number": 13
    },
    {
     "cell_type": "markdown",
     "metadata": {
      "slideshow": {
       "slide_type": "slide"
      }
     },
     "source": [
      "\u7528 for \u8ff4\u5708\u9020\u51fa\u4e00\u500b list\u3002"
     ]
    },
    {
     "cell_type": "code",
     "collapsed": false,
     "input": [
      "L = []\n",
      "for i in range(6):\n",
      "    L.append(2*i)"
     ],
     "language": "python",
     "metadata": {},
     "outputs": [],
     "prompt_number": 14
    },
    {
     "cell_type": "code",
     "collapsed": false,
     "input": [
      "L"
     ],
     "language": "python",
     "metadata": {},
     "outputs": [
      {
       "metadata": {},
       "output_type": "pyout",
       "prompt_number": 15,
       "text": [
        "[0, 2, 4, 6, 8, 10]"
       ]
      }
     ],
     "prompt_number": 15
    },
    {
     "cell_type": "markdown",
     "metadata": {
      "slideshow": {
       "slide_type": "slide"
      }
     },
     "source": [
      "\u6700 Python \u7684\u7c21\u6f54\u5beb\u6cd5\u3002"
     ]
    },
    {
     "cell_type": "code",
     "collapsed": false,
     "input": [
      "S = [2*i for i in range(6)]"
     ],
     "language": "python",
     "metadata": {},
     "outputs": [],
     "prompt_number": 16
    },
    {
     "cell_type": "code",
     "collapsed": false,
     "input": [
      "S"
     ],
     "language": "python",
     "metadata": {},
     "outputs": [
      {
       "metadata": {},
       "output_type": "pyout",
       "prompt_number": 17,
       "text": [
        "[0, 2, 4, 6, 8, 10]"
       ]
      }
     ],
     "prompt_number": 17
    },
    {
     "cell_type": "markdown",
     "metadata": {
      "slideshow": {
       "slide_type": "slide"
      }
     },
     "source": [
      "## 2. \u5b57\u4e32\u6709\u9ede\u50cf list\n",
      "\n",
      "Python \u6709\u5f88\u5f37\u7684\u5b57\u4e32\u8655\u7406\u80fd\u529b!"
     ]
    },
    {
     "cell_type": "code",
     "collapsed": false,
     "input": [
      "st = \"apple\""
     ],
     "language": "python",
     "metadata": {},
     "outputs": [],
     "prompt_number": 18
    },
    {
     "cell_type": "code",
     "collapsed": false,
     "input": [
      "st[2:4]"
     ],
     "language": "python",
     "metadata": {},
     "outputs": [
      {
       "metadata": {},
       "output_type": "pyout",
       "prompt_number": 19,
       "text": [
        "'pl'"
       ]
      }
     ],
     "prompt_number": 19
    },
    {
     "cell_type": "markdown",
     "metadata": {
      "slideshow": {
       "slide_type": "slide"
      }
     },
     "source": [
      "CSV \u6a94\u8cc7\u6599\u7684\u4e00\u884c\u53ef\u80fd\u9577\u9019\u500b\u6a23\u5b50\u3002"
     ]
    },
    {
     "cell_type": "code",
     "collapsed": false,
     "input": [
      "line = \"Ian Tsai,95,77,83\""
     ],
     "language": "python",
     "metadata": {},
     "outputs": [],
     "prompt_number": 20
    },
    {
     "cell_type": "code",
     "collapsed": false,
     "input": [],
     "language": "python",
     "metadata": {},
     "outputs": [],
     "prompt_number": 20
    },
    {
     "cell_type": "markdown",
     "metadata": {},
     "source": [
      "\u600e\u9ebc\u5206\u958b\u5462? (\u77ac\u9593!)"
     ]
    },
    {
     "cell_type": "code",
     "collapsed": false,
     "input": [
      "student = line.split(',')"
     ],
     "language": "python",
     "metadata": {},
     "outputs": [],
     "prompt_number": 21
    },
    {
     "cell_type": "code",
     "collapsed": false,
     "input": [
      "student"
     ],
     "language": "python",
     "metadata": {},
     "outputs": [
      {
       "metadata": {},
       "output_type": "pyout",
       "prompt_number": 22,
       "text": [
        "['Ian Tsai', '95', '77', '83']"
       ]
      }
     ],
     "prompt_number": 22
    },
    {
     "cell_type": "markdown",
     "metadata": {
      "slideshow": {
       "slide_type": "slide"
      }
     },
     "source": [
      "\u5408\u8d77\u4f86!"
     ]
    },
    {
     "cell_type": "code",
     "collapsed": false,
     "input": [
      "L = ['Tom', '78', '99', '85']"
     ],
     "language": "python",
     "metadata": {},
     "outputs": [],
     "prompt_number": 23
    },
    {
     "cell_type": "code",
     "collapsed": false,
     "input": [
      "record = ','.join(L)"
     ],
     "language": "python",
     "metadata": {},
     "outputs": [],
     "prompt_number": 24
    },
    {
     "cell_type": "code",
     "collapsed": false,
     "input": [
      "record"
     ],
     "language": "python",
     "metadata": {},
     "outputs": [
      {
       "metadata": {},
       "output_type": "pyout",
       "prompt_number": 25,
       "text": [
        "'Tom,78,99,85'"
       ]
      }
     ],
     "prompt_number": 25
    },
    {
     "cell_type": "markdown",
     "metadata": {},
     "source": [
      "\u65bc\u662f, \u6211\u5011\u8981\u6b63\u5f0f\u958b\u59cb\u7df4\u7fd2..."
     ]
    },
    {
     "cell_type": "markdown",
     "metadata": {
      "slideshow": {
       "slide_type": "slide"
      }
     },
     "source": [
      "## 3. \u653e\u500b\u4ec0\u9ebc\u5230\u5b57\u4e32\u88e1\n",
      "\n",
      "Python \u5f88\u5bb9\u6613\u653e\u6574\u6578 (d)\u3001\u6d6e\u9ede\u6578 (f)\u3001\u5b57\u4e32 (s) \u7b49\u7b49\u5230\u4e00\u500b\u5b57\u4e32\u4e4b\u4e2d\u3002"
     ]
    },
    {
     "cell_type": "code",
     "collapsed": false,
     "input": [
      "name = raw_input(\"Your name, please? \")\n",
      "print \"Hi, %s! Nice to meet you!\" % name"
     ],
     "language": "python",
     "metadata": {},
     "outputs": [
      {
       "name": "stdout",
       "output_type": "stream",
       "stream": "stdout",
       "text": [
        "Your name, please? Yen\n"
       ]
      },
      {
       "output_type": "stream",
       "stream": "stdout",
       "text": [
        "Hi, Yen! Nice to meet you!\n"
       ]
      }
     ],
     "prompt_number": 26
    },
    {
     "cell_type": "markdown",
     "metadata": {},
     "source": [
      "\u53ef\u4ee5\u5f15\u5165\u8d85\u904e\u4e00\u500b, \u751a\u81f3\u6df7\u5408\u578b\u614b!"
     ]
    },
    {
     "cell_type": "code",
     "collapsed": false,
     "input": [
      "print \"\u6211\u662f %d \u5e74\u524d\u5f9e%s\u7562\u696d\u3002\" % (3, \"\u653f\u5927\")"
     ],
     "language": "python",
     "metadata": {
      "slideshow": {
       "slide_type": "slide"
      }
     },
     "outputs": [
      {
       "output_type": "stream",
       "stream": "stdout",
       "text": [
        "\u6211\u662f 3 \u5e74\u524d\u5f9e\u653f\u5927\u7562\u696d\u3002\n"
       ]
      }
     ],
     "prompt_number": 27
    },
    {
     "cell_type": "markdown",
     "metadata": {},
     "source": [
      "\u6211\u5011\u9084\u53ef\u4ee5\u6307\u5b9a\u8981\u653e\u591a\u5927\u7684\u4f4d\u7f6e\u53bb\u986f\u793a, \u9019\u6a23\u65b9\u4fbf\u67d0\u7a2e\u6392\u7248\u3002"
     ]
    },
    {
     "cell_type": "code",
     "collapsed": false,
     "input": [
      "print \"\u59d3\u540d: %10s\" % (\"Ian Tsai\")\n",
      "print \"\u5206\u6578: %10f\" % (83.66)"
     ],
     "language": "python",
     "metadata": {},
     "outputs": [
      {
       "output_type": "stream",
       "stream": "stdout",
       "text": [
        "\u59d3\u540d:   Ian Tsai\n",
        "\u5206\u6578:  83.660000\n"
       ]
      }
     ],
     "prompt_number": 28
    },
    {
     "cell_type": "markdown",
     "metadata": {
      "slideshow": {
       "slide_type": "slide"
      }
     },
     "source": [
      "\u7b49\u7b49, \u9019\u5206\u6578\u5370\u7684\u5f88\u96e3\u770b, \u53ef\u4ee5\u6307\u5b9a\u5c0f\u6578\u4f4d\u6578\u55ce?"
     ]
    },
    {
     "cell_type": "code",
     "collapsed": false,
     "input": [
      "print \"\u59d3\u540d: %10s\" % (\"Ian Tsai\")\n",
      "print \"\u5206\u6578: %10.2f\" % (83.66)"
     ],
     "language": "python",
     "metadata": {},
     "outputs": [
      {
       "output_type": "stream",
       "stream": "stdout",
       "text": [
        "\u59d3\u540d:   Ian Tsai\n",
        "\u5206\u6578:      83.66\n"
       ]
      }
     ],
     "prompt_number": 29
    },
    {
     "cell_type": "markdown",
     "metadata": {
      "slideshow": {
       "slide_type": "slide"
      }
     },
     "source": [
      "## 4. Python \u7684\u9577\u7bc7\u5b57\u4e32\n",
      "\n",
      "\u5f88\u5c11\u7a0b\u5f0f\u8a9e\u8a00\u7684\u5b57\u4e32\u53ef\u4ee5\u76f4\u63a5\u653e\u4e00\u7bc7\u6587\u7ae0, \u4f46 Python \u53ef\u4ee5!! \u53ea\u8981\u4e09\u500b\u5f15\u865f..."
     ]
    },
    {
     "cell_type": "code",
     "collapsed": false,
     "input": [
      "message = \"\"\"\u89aa\u611b\u7684 Jackie,\n",
      "\n",
      "\u6700\u8fd1\u597d\u55ce? \u8fd1\u4f86\u7e3d\u662f\u4e0d\u6642\u60f3\u8d77\u59b3, \u5c24\u5176\u662f\u7d93\u904e\u4e00\u8d77\u53bb\u904e\u7684\u5730\u65b9, \u7e3d\u6703\u60f3\u5230,\n",
      "\n",
      "\u300c\u554a, \u9019\u662f\u548c Jackie \u4f86\u904e\u7684\u5730\u65b9\u3002\u300d\"\"\""
     ],
     "language": "python",
     "metadata": {
      "slideshow": {
       "slide_type": "slide"
      }
     },
     "outputs": [],
     "prompt_number": 30
    },
    {
     "cell_type": "code",
     "collapsed": false,
     "input": [
      "print message"
     ],
     "language": "python",
     "metadata": {
      "slideshow": {
       "slide_type": "slide"
      }
     },
     "outputs": [
      {
       "output_type": "stream",
       "stream": "stdout",
       "text": [
        "\u89aa\u611b\u7684 Jackie,\n",
        "\n",
        "\u6700\u8fd1\u597d\u55ce? \u8fd1\u4f86\u7e3d\u662f\u4e0d\u6642\u60f3\u8d77\u59b3, \u5c24\u5176\u662f\u7d93\u904e\u4e00\u8d77\u53bb\u904e\u7684\u5730\u65b9, \u7e3d\u6703\u60f3\u5230,\n",
        "\n",
        "\u300c\u554a, \u9019\u662f\u548c Jackie \u4f86\u904e\u7684\u5730\u65b9\u3002\u300d\n"
       ]
      }
     ],
     "prompt_number": 31
    },
    {
     "cell_type": "markdown",
     "metadata": {
      "slideshow": {
       "slide_type": "slide"
      }
     },
     "source": [
      "#### \u7df4\u7fd2\n",
      "\u6211\u5011\u5148\u505a\u4e00\u500b list, \u88e1\u9762\u662f\u4e00\u5806\u540d\u5b57\u7684\u5b57\u4e32\u3002\u7136\u5f8c\u628a\u9019\u540d\u5b57\u4e00\u4e00\u5957\u5165\u4e00\u5c01\u4fe1\u3001\u4e00\u500b\u8a0a\u606f\u4e4b\u4e2d\u3002\n",
      "\n",
      "\u518d\u4f86\u6211\u5011\u5c31\u60f3, \u9019\u4e9b\u8a0a\u606f\u5982\u679c\u53ef\u4ee5\u8b8a\u6210\u4e0d\u540c\u7684\u6a94\u6848\u3001\u751a\u81f3\u5bc4\u51fa e-mail..."
     ]
    },
    {
     "cell_type": "markdown",
     "metadata": {
      "slideshow": {
       "slide_type": "slide"
      }
     },
     "source": [
      "## 5. \u8b80\u6a94\u6848\u5beb\u6a94\n",
      "\n",
      "\u8b80\u9032\u4e00\u500b\u8cc7\u6599\u6a94, \u5beb\u4e00\u500b\u8cc7\u6599\u6a94\u7576\u7136\u662f\u5f88\u91cd\u8981\u7684\u4e8b\u3002\u73fe\u5728\u6211\u5011\u60f3\u4f86\u8a66\u8a66... (\u5047\u8a2d\u4f60\u5df2\u7d93\u628a grades.csv \u653e\u9032\u4f86\u4e86)"
     ]
    },
    {
     "cell_type": "markdown",
     "metadata": {},
     "source": [
      "## \u8b80\u5165\u4e00\u500b\u6a94\u6848"
     ]
    },
    {
     "cell_type": "code",
     "collapsed": false,
     "input": [
      "f = open(\"grades.csv\", 'r') # \u6253\u958b grades.csv"
     ],
     "language": "python",
     "metadata": {
      "slideshow": {
       "slide_type": "slide"
      }
     },
     "outputs": [],
     "prompt_number": 32
    },
    {
     "cell_type": "code",
     "collapsed": false,
     "input": [
      "rawdata = f.readlines()"
     ],
     "language": "python",
     "metadata": {},
     "outputs": [],
     "prompt_number": 33
    },
    {
     "cell_type": "code",
     "collapsed": false,
     "input": [
      "f.close() # \u95dc\u6389 grades.csv"
     ],
     "language": "python",
     "metadata": {},
     "outputs": [],
     "prompt_number": 34
    },
    {
     "cell_type": "code",
     "collapsed": false,
     "input": [
      "st1 = rawdata[37]"
     ],
     "language": "python",
     "metadata": {},
     "outputs": [],
     "prompt_number": 35
    },
    {
     "cell_type": "code",
     "collapsed": false,
     "input": [
      "st1"
     ],
     "language": "python",
     "metadata": {},
     "outputs": [
      {
       "metadata": {},
       "output_type": "pyout",
       "prompt_number": 36,
       "text": [
        "'\\xe8\\xa9\\xb9\\xe5\\xa8\\x81\\xe5\\xbe\\xb7,12,13,15,10,14\\n'"
       ]
      }
     ],
     "prompt_number": 36
    },
    {
     "cell_type": "code",
     "collapsed": false,
     "input": [
      "print st1"
     ],
     "language": "python",
     "metadata": {},
     "outputs": [
      {
       "output_type": "stream",
       "stream": "stdout",
       "text": [
        "\u8a79\u5a01\u5fb7,12,13,15,10,14\n",
        "\n"
       ]
      }
     ],
     "prompt_number": 37
    },
    {
     "cell_type": "code",
     "collapsed": false,
     "input": [
      "for student in rawdata:\n",
      "    print student.rstrip('\\n')"
     ],
     "language": "python",
     "metadata": {},
     "outputs": [
      {
       "output_type": "stream",
       "stream": "stdout",
       "text": [
        "\u59d3\u540d,\u570b\u6587,\u82f1\u6587,\u6578\u5b78,\u81ea\u7136,\u793e\u6703\n",
        "\u5289\u4fca\u5b89,9,10,15,10,13\n",
        "\u80e1\u7389\u83ef,10,10,10,8,9\n",
        "\u9ec3\u6dd1\u5a77,13,15,8,11,14\n",
        "\u9673\u4e0a\u7d2b,10,10,8,9,14\n",
        "\u5d14\u975c\u6210,13,12,14,12,13\n",
        "\u5f35\u96c5\u5cb3,13,12,12,12,8\n",
        "\u6881\u4fca\u7fd4,11,13,10,10,14\n",
        "\u6797\u91d1\u9cf3,8,9,10,10,8\n",
        "\u8a31\u5354\u65fa,9,9,12,10,10\n",
        "\u90ed\u96c5\u60e0,10,15,12,11,9\n",
        "\u5f35\u5fd7\u5049,14,9,8,10,12\n",
        "\u5468\u7687\u6a3a,13,9,13,14,15\n",
        "\u674e\u6b63\u5049,11,15,11,14,15\n",
        "\u9ec3\u65ed\u5fe0,15,14,9,12,10\n",
        "\u8449\u96c5\u7433,8,13,10,13,14\n",
        "\u9ec3\u6dd1\u6167,11,8,10,12,15\n",
        "\u5433\u829d\u83c1,14,9,11,10,9\n",
        "\u8076\u73ee\u541b,12,11,13,12,9\n",
        "\u6881\u6167\u541b,9,8,8,8,12\n",
        "\u8449\u66c9\u73b2,14,9,11,15,9\n",
        "\u9673\u667a\u8d85,13,9,13,14,13\n",
        "\u9ec3\u5955\u971e,9,8,11,13,8\n",
        "\u6c88\u6606\u7d14,12,14,10,9,9\n",
        "\u8a31\u60e0\u96ef,10,13,12,14,10\n",
        "\u9673\u7af9\u4f2f,10,12,15,10,14\n",
        "\u8521\u4ea6\u7444,13,13,14,13,12\n",
        "\u6234\u559c\u5bf6,13,11,9,14,9\n",
        "\u99ae\u767d\u5c4f,8,13,14,8,10\n",
        "\u738b\u91d1\u9cf3,15,14,8,12,8\n",
        "\u95d5\u9032\u7da0,14,11,13,8,11\n",
        "\u9023\u744b\u73b2,8,10,14,8,13\n",
        "\u6797\u79c0\u5a1f,15,12,9,9,15\n",
        "\u6797\u5efa\u4ea8,9,11,8,8,11\n",
        "\u738b\u4f73\u84c9,14,15,9,9,8\n",
        "\u66fe\u6dd1\u739f,13,12,10,11,9\n",
        "\u76e7\u51a0\u5b8f,14,11,10,11,11\n",
        "\u8a79\u5a01\u5fb7,12,13,15,10,14\n",
        "\u66fe\u6021\u541b,11,12,15,13,14\n",
        "\u5433\u6587\u4f2f,8,8,8,15,12\n",
        "\u6bb5\u51a0\u5ef7,9,8,15,12,15\n",
        "\u5433\u6b23\u5f37,12,13,8,11,9\n",
        "\u66f2\u79c0\u82ac,14,14,8,9,15\n",
        "\u8d99\u606d\u7fa4,14,12,10,9,15\n",
        "\u6797\u58eb\u831c,12,15,9,9,13\n",
        "\u7ae5\u5fc3\u6021,13,13,14,8,13\n",
        "\u8b1d\u4eae\u592b,9,8,14,11,9\n",
        "\u67f3\u83c1\u862d,14,12,10,8,14\n",
        "\u8449\u5b50\u8c6a,8,9,13,13,15\n",
        "\u9673\u6021\u5a77,15,14,12,9,15\n",
        "\u6731\u5bf6\u539f,10,14,11,10,15\n",
        "\u99ae\u4f36\u744b,12,12,14,8,11\n",
        "\u5289\u5f65\u658c,14,11,11,12,13\n",
        "\u9ec3\u6167\u7db8,12,9,13,14,9\n",
        "\u99f1\u7a4e\u7426,14,10,11,9,15\n",
        "\u9673\u6021\u6f54,15,15,9,15,11\n",
        "\u6797\u610f\u73cd,9,15,11,13,9\n",
        "\u9673\u4ead\u598f,11,14,11,12,10\n",
        "\u80e1\u6df3\u831c,12,15,14,13,11\n",
        "\u9673\u5141\u51cc,10,13,9,11,14\n",
        "\u82ae\u79cb\u8f9b,11,10,15,10,8\n",
        "\u66fe\u6607\u55ac,14,12,11,8,15\n",
        "\u5468\u7b60\u83c1,14,8,8,11,12\n",
        "\u8a31\u7acb\u5049,8,10,10,15,9\n",
        "\u5f35\u5c71\u7407,12,11,9,9,15\n",
        "\u4fde\u5fd7\u5cf0,9,14,13,14,15\n",
        "\u8b1d\u96c5\u7433,13,14,13,12,9\n",
        "\u90b1\u76c8\u4fca,10,14,14,13,8\n",
        "\u6797\u54f2\u6cd5,14,9,15,10,14\n",
        "\u5289\u9e97\u82ac,8,14,14,14,14\n",
        "\u8523\u5955\u4efb,12,12,10,13,8\n",
        "\u8449\u5100\u4f9d,9,13,15,8,14\n",
        "\u8449\u5fc5\u76c8,9,8,13,9,12\n",
        "\u9673\u6b23\u73b2,10,9,13,8,10\n",
        "\u5433\u5fd7\u9060,13,15,15,8,8\n",
        "\u5289\u96c5\u53cb,14,9,10,14,11\n",
        "\u5b8b\u7f8e\u73e0,13,8,9,10,11\n",
        "\u5468\u80b2\u9716,9,12,15,13,12\n",
        "\u9ec3\u4ecb\u55ac,13,10,11,8,13\n",
        "\u8449\u5b5f\u540d,12,13,13,9,11\n",
        "\u5ba3\u5ba3\u58eb,9,10,12,15,13\n",
        "\u65bd\u96c5\u9234,13,15,12,13,13\n",
        "\u694a\u5f65\u4f36,11,8,13,9,15\n",
        "\u856d\u5448\u840d,11,14,9,15,9\n",
        "\u674e\u58eb\u8ce2,10,14,15,13,13\n",
        "\u80e1\u51f1\u7433,10,8,9,9,15\n",
        "\u5f35\u96c5\u5f6c,10,11,15,12,8\n",
        "\u6797\u8c9e\u5100,11,10,14,8,13\n",
        "\u8d99\u5049\u5e0c,10,13,14,13,15\n",
        "\u6234\u9752\u82f1,11,8,14,12,10\n",
        "\u90ed\u9806\u8aa0,13,13,10,14,9\n",
        "\u80e1\u52dd\u5091,8,11,15,10,15\n",
        "\u9673\u767b\u7ff0,14,11,11,13,12\n",
        "\u8521\u6dd1\u5b5d,8,12,14,12,11\n",
        "\u674e\u66fc\u5922,11,9,11,8,8\n",
        "\u6797\u8207\u5fe0,10,9,10,11,15\n",
        "\u8521\u4f73\u71d5,9,10,9,13,14\n",
        "\u5433\u7b71\u5a77,8,10,14,10,15\n",
        "\u9673\u5bb6\u9298,14,9,11,8,12\n",
        "\u674e\u660e\u5a01,15,9,8,9,15\n",
        "\u8fb2\u63da\u52c7,9,11,12,12,10\n"
       ]
      }
     ],
     "prompt_number": 38
    },
    {
     "cell_type": "code",
     "collapsed": false,
     "input": [
      "for i in range(5):\n",
      "    print rawdata[i]"
     ],
     "language": "python",
     "metadata": {
      "slideshow": {
       "slide_type": "slide"
      }
     },
     "outputs": [
      {
       "output_type": "stream",
       "stream": "stdout",
       "text": [
        "\u59d3\u540d,\u570b\u6587,\u82f1\u6587,\u6578\u5b78,\u81ea\u7136,\u793e\u6703\n",
        "\n",
        "\u5289\u4fca\u5b89,9,10,15,10,13\n",
        "\n",
        "\u80e1\u7389\u83ef,10,10,10,8,9\n",
        "\n",
        "\u9ec3\u6dd1\u5a77,13,15,8,11,14\n",
        "\n",
        "\u9673\u4e0a\u7d2b,10,10,8,9,14\n",
        "\n"
       ]
      }
     ],
     "prompt_number": 39
    },
    {
     "cell_type": "markdown",
     "metadata": {
      "slideshow": {
       "slide_type": "slide"
      }
     },
     "source": [
      "\u770b\u770b\u6bcf\u884c\u5167\u5bb9"
     ]
    },
    {
     "cell_type": "code",
     "collapsed": false,
     "input": [
      "st = rawdata[1]"
     ],
     "language": "python",
     "metadata": {},
     "outputs": [],
     "prompt_number": 40
    },
    {
     "cell_type": "code",
     "collapsed": false,
     "input": [
      "st"
     ],
     "language": "python",
     "metadata": {},
     "outputs": [
      {
       "metadata": {},
       "output_type": "pyout",
       "prompt_number": 41,
       "text": [
        "'\\xe5\\x8a\\x89\\xe4\\xbf\\x8a\\xe5\\xae\\x89,9,10,15,10,13\\n'"
       ]
      }
     ],
     "prompt_number": 41
    },
    {
     "cell_type": "code",
     "collapsed": false,
     "input": [
      "st = st.rstrip('\\n')"
     ],
     "language": "python",
     "metadata": {},
     "outputs": [],
     "prompt_number": 42
    },
    {
     "cell_type": "code",
     "collapsed": false,
     "input": [
      "st"
     ],
     "language": "python",
     "metadata": {},
     "outputs": [
      {
       "metadata": {},
       "output_type": "pyout",
       "prompt_number": 43,
       "text": [
        "'\\xe5\\x8a\\x89\\xe4\\xbf\\x8a\\xe5\\xae\\x89,9,10,15,10,13'"
       ]
      }
     ],
     "prompt_number": 43
    },
    {
     "cell_type": "markdown",
     "metadata": {
      "slideshow": {
       "slide_type": "slide"
      }
     },
     "source": [
      "#### \u7df4\u7fd2\n",
      "\n",
      "\u53ef\u4ee5\u8a08\u7b97\u6bcf\u4f4d\u540c\u5b78\u7684\u5e73\u5747\u5206\u6578\u55ce?"
     ]
    },
    {
     "cell_type": "markdown",
     "metadata": {
      "slideshow": {
       "slide_type": "slide"
      }
     },
     "source": [
      "## 6. \u5beb\u5165\u4e00\u500b\u6a94\u6848\n",
      "\n",
      "\u5728 Python \u88e1, \u6211\u5011\u6703 print, \u5c31\u6703\u5beb\u5165\u4e00\u500b\u6a94\u6848\u3002"
     ]
    },
    {
     "cell_type": "code",
     "collapsed": false,
     "input": [
      "st1 = \"\u53f0\u7063,2300,35980\"\n",
      "st2 = \"\u65e5\u672c,12760,377944\"\n",
      "st3 = \"\u52a0\u62ff\u5927,3488,9984670\""
     ],
     "language": "python",
     "metadata": {},
     "outputs": [],
     "prompt_number": 44
    },
    {
     "cell_type": "markdown",
     "metadata": {},
     "source": [
      "\u6211\u5011\u5beb\u500b\u5f88\u767d\u75f4\u7684\u7a0b\u5f0f..."
     ]
    },
    {
     "cell_type": "code",
     "collapsed": false,
     "input": [
      "print st1\n",
      "print st2\n",
      "print st3"
     ],
     "language": "python",
     "metadata": {},
     "outputs": [
      {
       "output_type": "stream",
       "stream": "stdout",
       "text": [
        "\u53f0\u7063,2300,35980\n",
        "\u65e5\u672c,12760,377944\n",
        "\u52a0\u62ff\u5927,3488,9984670\n"
       ]
      }
     ],
     "prompt_number": 45
    },
    {
     "cell_type": "markdown",
     "metadata": {
      "slideshow": {
       "slide_type": "slide"
      }
     },
     "source": [
      "\u6211\u60f3\u628a\u9019\u4e9b\u8cc7\u6599\u5b58\u6210\u4e00\u500b countries.csv \u6a94\u3002"
     ]
    },
    {
     "cell_type": "code",
     "collapsed": false,
     "input": [
      "f = open(\"countries.csv\", 'w')"
     ],
     "language": "python",
     "metadata": {},
     "outputs": [],
     "prompt_number": 46
    },
    {
     "cell_type": "markdown",
     "metadata": {},
     "source": [
      "\u53ea\u8981\u5728 print \u5f8c\u8aaa\u8981\u8f38\u51fa\u5230\u6211\u5011\u6307\u5b9a\u6a94\u6848, \u4e5f\u5c31\u662f\u52a0\u5165 >> f"
     ]
    },
    {
     "cell_type": "code",
     "collapsed": false,
     "input": [
      "print >> f, st1\n",
      "print >> f, st2\n",
      "print >> f, st3"
     ],
     "language": "python",
     "metadata": {},
     "outputs": [],
     "prompt_number": 47
    },
    {
     "cell_type": "code",
     "collapsed": false,
     "input": [],
     "language": "python",
     "metadata": {},
     "outputs": [],
     "prompt_number": 47
    },
    {
     "cell_type": "code",
     "collapsed": false,
     "input": [
      "f.close()"
     ],
     "language": "python",
     "metadata": {},
     "outputs": [],
     "prompt_number": 48
    },
    {
     "cell_type": "markdown",
     "metadata": {
      "slideshow": {
       "slide_type": "slide"
      }
     },
     "source": [
      "#### \u7df4\u7fd2\n",
      "\u4f7f\u7528\u4e82\u6578\u505a\u51fa\u4e00\u5806\u5047\u8cc7\u6599, \u5b58\u6210 CSV \u6a94\u3002\n",
      "\n",
      "\uff08\u5982\u679c\u9700\u8981\u4e00\u5806\u5047\u540d\u5b57, \u53ef\u4ee5\u4f7f\u7528[\u4e2d\u6587\u59d3\u540d\u7522\u751f\u5668](http://www.richyli.com/name/)\u3002\uff09"
     ]
    },
    {
     "cell_type": "markdown",
     "metadata": {
      "slideshow": {
       "slide_type": "slide"
      }
     },
     "source": [
      "## 7. \u5927\u5bb6\u597d\u50cf\u5f88\u611b\u4e82\u6578"
     ]
    },
    {
     "cell_type": "markdown",
     "metadata": {},
     "source": [
      "\u300c\u771f\u6b63\u300d\u4e82\u6578\u5957\u4ef6\u4f7f\u7528\u6cd5\u3002"
     ]
    },
    {
     "cell_type": "code",
     "collapsed": false,
     "input": [
      "from random import *"
     ],
     "language": "python",
     "metadata": {
      "slideshow": {
       "slide_type": "slide"
      }
     },
     "outputs": [],
     "prompt_number": 49
    },
    {
     "cell_type": "markdown",
     "metadata": {
      "slideshow": {
       "slide_type": "slide"
      }
     },
     "source": [
      "### \u554f\u984c 1: \u6211\u60f3\u5f9e\u4e00\u500b\u4e32\u5217, \u9078\u51fa\u4e00\u500b\u3002"
     ]
    },
    {
     "cell_type": "code",
     "collapsed": false,
     "input": [
      "pool = [\"Fika Fika\", \"Love & Peace\", \"\u9053\u5357\u9928\", \"Coffee Sweet\"]"
     ],
     "language": "python",
     "metadata": {},
     "outputs": [],
     "prompt_number": 50
    },
    {
     "cell_type": "code",
     "collapsed": false,
     "input": [
      "print choice(pool)"
     ],
     "language": "python",
     "metadata": {},
     "outputs": [
      {
       "output_type": "stream",
       "stream": "stdout",
       "text": [
        "Coffee Sweet\n"
       ]
      }
     ],
     "prompt_number": 51
    },
    {
     "cell_type": "markdown",
     "metadata": {},
     "source": [
      "choice(pool)"
     ]
    },
    {
     "cell_type": "markdown",
     "metadata": {
      "slideshow": {
       "slide_type": "slide"
      }
     },
     "source": [
      "### \u554f\u984c 2: \u6211\u60f3\u5f9e\u4e00\u5806\u6578\u5b57, \u627e\u51fa (\u6bd4\u5982) \u516d\u500b\u6578\u3002"
     ]
    },
    {
     "cell_type": "code",
     "collapsed": false,
     "input": [
      "numbers = range(1, 50)"
     ],
     "language": "python",
     "metadata": {},
     "outputs": [],
     "prompt_number": 52
    },
    {
     "cell_type": "code",
     "collapsed": false,
     "input": [
      "sample(numbers, 6)"
     ],
     "language": "python",
     "metadata": {},
     "outputs": [
      {
       "metadata": {},
       "output_type": "pyout",
       "prompt_number": 53,
       "text": [
        "[42, 30, 21, 25, 48, 11]"
       ]
      }
     ],
     "prompt_number": 53
    },
    {
     "cell_type": "code",
     "collapsed": false,
     "input": [
      "cards = range(52)"
     ],
     "language": "python",
     "metadata": {},
     "outputs": [],
     "prompt_number": 54
    },
    {
     "cell_type": "code",
     "collapsed": false,
     "input": [
      "shuffle(cards)"
     ],
     "language": "python",
     "metadata": {},
     "outputs": [],
     "prompt_number": 55
    },
    {
     "cell_type": "code",
     "collapsed": false,
     "input": [
      "cards"
     ],
     "language": "python",
     "metadata": {},
     "outputs": [
      {
       "metadata": {},
       "output_type": "pyout",
       "prompt_number": 56,
       "text": [
        "[32,\n",
        " 48,\n",
        " 36,\n",
        " 34,\n",
        " 42,\n",
        " 41,\n",
        " 4,\n",
        " 27,\n",
        " 22,\n",
        " 39,\n",
        " 29,\n",
        " 8,\n",
        " 44,\n",
        " 37,\n",
        " 49,\n",
        " 11,\n",
        " 21,\n",
        " 12,\n",
        " 5,\n",
        " 28,\n",
        " 33,\n",
        " 40,\n",
        " 14,\n",
        " 43,\n",
        " 45,\n",
        " 2,\n",
        " 26,\n",
        " 51,\n",
        " 18,\n",
        " 23,\n",
        " 31,\n",
        " 3,\n",
        " 16,\n",
        " 13,\n",
        " 20,\n",
        " 17,\n",
        " 1,\n",
        " 0,\n",
        " 9,\n",
        " 10,\n",
        " 6,\n",
        " 35,\n",
        " 19,\n",
        " 15,\n",
        " 38,\n",
        " 25,\n",
        " 24,\n",
        " 46,\n",
        " 7,\n",
        " 30,\n",
        " 47,\n",
        " 50]"
       ]
      }
     ],
     "prompt_number": 56
    },
    {
     "cell_type": "markdown",
     "metadata": {
      "slideshow": {
       "slide_type": "slide"
      }
     },
     "source": [
      "## 8.\u3000\u5957\u4ef6\u5f88\u591a\u5f88\u597d\u7528"
     ]
    },
    {
     "cell_type": "markdown",
     "metadata": {},
     "source": [
      "\u6211\u5011\u518d\u4f86\u4ecb\u7d39\u4e00\u500b\u8655\u7406\u65e5\u671f\u7684\u5957\u4ef6\u3002"
     ]
    },
    {
     "cell_type": "code",
     "collapsed": false,
     "input": [
      "from datetime import date"
     ],
     "language": "python",
     "metadata": {
      "slideshow": {
       "slide_type": "slide"
      }
     },
     "outputs": [],
     "prompt_number": 57
    },
    {
     "cell_type": "code",
     "collapsed": false,
     "input": [
      "base = date(2014,3,17)\n",
      "now = date.today()\n",
      "n = (now-base).days\n",
      "\n",
      "print \"\u4eca\u5929\u662f\u4ea4\u5f80\u7b2c %d \u5929\u3002\" % n"
     ],
     "language": "python",
     "metadata": {},
     "outputs": [
      {
       "output_type": "stream",
       "stream": "stdout",
       "text": [
        "\u4eca\u5929\u662f\u4ea4\u5f80\u7b2c 169 \u5929\u3002\n"
       ]
      }
     ],
     "prompt_number": 58
    },
    {
     "cell_type": "markdown",
     "metadata": {
      "slideshow": {
       "slide_type": "slide"
      }
     },
     "source": [
      "## 8. \u518d\u56de\u4f86, \u756b\u500b\u5716"
     ]
    },
    {
     "cell_type": "markdown",
     "metadata": {},
     "source": [
      "\u6211\u5011\u518d\u4f86\u624b\u5de5\u5f15\u5165 (\u4f46\u53c8\u5e0c\u671b\u80fd inline)\u3002"
     ]
    },
    {
     "cell_type": "code",
     "collapsed": false,
     "input": [
      "%pylab inline"
     ],
     "language": "python",
     "metadata": {},
     "outputs": [
      {
       "output_type": "stream",
       "stream": "stdout",
       "text": [
        "Populating the interactive namespace from numpy and matplotlib\n"
       ]
      },
      {
       "output_type": "stream",
       "stream": "stderr",
       "text": [
        "WARNING: pylab import has clobbered these variables: ['shuffle', 'f', 'random', 'triangular', 'uniform', 'sample', 'record', 'seed', 'randint']\n",
        "`%matplotlib` prevents importing * from pylab and numpy\n"
       ]
      }
     ],
     "prompt_number": 59
    },
    {
     "cell_type": "code",
     "collapsed": false,
     "input": [
      "x = linspace(-10,10,300)"
     ],
     "language": "python",
     "metadata": {
      "slideshow": {
       "slide_type": "slide"
      }
     },
     "outputs": [],
     "prompt_number": 60
    },
    {
     "cell_type": "code",
     "collapsed": false,
     "input": [
      "plot(x, sin(3*x), linewidth=10, color='red')"
     ],
     "language": "python",
     "metadata": {},
     "outputs": [
      {
       "metadata": {},
       "output_type": "pyout",
       "prompt_number": 61,
       "text": [
        "[<matplotlib.lines.Line2D at 0x105d098d0>]"
       ]
      },
      {
       "metadata": {},
       "output_type": "display_data",
       "png": "[encoded data removed]",
       "text": [
        "<matplotlib.figure.Figure at 0x105cddd90>"
       ]
      }
     ],
     "prompt_number": 61
    },
    {
     "cell_type": "code",
     "collapsed": false,
     "input": [
      "plot(x, sin(5*x))"
     ],
     "language": "python",
     "metadata": {},
     "outputs": [
      {
       "metadata": {},
       "output_type": "pyout",
       "prompt_number": 62,
       "text": [
        "[<matplotlib.lines.Line2D at 0x105d36a10>]"
       ]
      },
      {
       "metadata": {},
       "output_type": "display_data",
       "png": "[encoded data removed]",
       "text": [
        "<matplotlib.figure.Figure at 0x105cf8a10>"
       ]
      }
     ],
     "prompt_number": 62
    },
    {
     "cell_type": "markdown",
     "metadata": {
      "slideshow": {
       "slide_type": "slide"
      }
     },
     "source": [
      "## \u66f4\u6539\u5c6c\u6027"
     ]
    },
    {
     "cell_type": "code",
     "collapsed": false,
     "input": [
      "plot(x, sin(2*x), linewidth=10)"
     ],
     "language": "python",
     "metadata": {},
     "outputs": [
      {
       "metadata": {},
       "output_type": "pyout",
       "prompt_number": 63,
       "text": [
        "[<matplotlib.lines.Line2D at 0x105dca290>]"
       ]
      },
      {
       "metadata": {},
       "output_type": "display_data",
       "png": "[encoded data removed]",
       "text": [
        "<matplotlib.figure.Figure at 0x105d3d310>"
       ]
      }
     ],
     "prompt_number": 63
    },
    {
     "cell_type": "markdown",
     "metadata": {
      "slideshow": {
       "slide_type": "slide"
      }
     },
     "source": [
      "\u5169\u500b\u5716\u4e00\u8d77\u756b"
     ]
    },
    {
     "cell_type": "code",
     "collapsed": false,
     "input": [
      "plot(x, sin(x), linewidth=10)\n",
      "plot(x, 0.01*x**2, color='red')"
     ],
     "language": "python",
     "metadata": {},
     "outputs": [
      {
       "metadata": {},
       "output_type": "pyout",
       "prompt_number": 64,
       "text": [
        "[<matplotlib.lines.Line2D at 0x105db4b90>]"
       ]
      },
      {
       "metadata": {},
       "output_type": "display_data",
       "png": "[encoded data removed]",
       "text": [
        "<matplotlib.figure.Figure at 0x105db4f90>"
       ]
      }
     ],
     "prompt_number": 64
    },
    {
     "cell_type": "markdown",
     "metadata": {
      "slideshow": {
       "slide_type": "slide"
      }
     },
     "source": [
      "## 9. \u5f88\u6709\u8da3\u7684\u4e92\u52d5!"
     ]
    },
    {
     "cell_type": "markdown",
     "metadata": {},
     "source": [
      "IPython (2.0 \u5f8c) \u7684\u57fa\u672c\u7684\u4e92\u52d5\u5de5\u5177\u3002"
     ]
    },
    {
     "cell_type": "code",
     "collapsed": false,
     "input": [
      "from IPython.html.widgets import interact"
     ],
     "language": "python",
     "metadata": {
      "slideshow": {
       "slide_type": "slide"
      }
     },
     "outputs": [],
     "prompt_number": 65
    },
    {
     "cell_type": "markdown",
     "metadata": {},
     "source": [
      "\u7136\u5f8c\u4f60\u5beb\u500b (\u6709\u5f15\u6578\u7684) \u51fd\u6578, \u5c31\u53ef\u4ee5\u4e92\u52d5!!"
     ]
    },
    {
     "cell_type": "code",
     "collapsed": false,
     "input": [
      "def f(a):\n",
      "    print a"
     ],
     "language": "python",
     "metadata": {},
     "outputs": [],
     "prompt_number": 66
    },
    {
     "cell_type": "code",
     "collapsed": false,
     "input": [
      "interact(f, a=5)"
     ],
     "language": "python",
     "metadata": {},
     "outputs": [
      {
       "output_type": "stream",
       "stream": "stdout",
       "text": [
        "5\n"
       ]
      },
      {
       "metadata": {},
       "output_type": "pyout",
       "prompt_number": 67,
       "text": [
        "<function __main__.f>"
       ]
      }
     ],
     "prompt_number": 67
    },
    {
     "cell_type": "code",
     "collapsed": false,
     "input": [
      "def f(a):\n",
      "    x = a\n",
      "    print x"
     ],
     "language": "python",
     "metadata": {},
     "outputs": [],
     "prompt_number": 68
    },
    {
     "cell_type": "markdown",
     "metadata": {
      "slideshow": {
       "slide_type": "slide"
      }
     },
     "source": [
      "\u7576\u7136, \u5716\u4e5f\u53ef\u4ee5!!"
     ]
    },
    {
     "cell_type": "code",
     "collapsed": false,
     "input": [
      "from IPython.html.widgets import interact\n",
      "x = linspace(0.01, 10, 300)"
     ],
     "language": "python",
     "metadata": {},
     "outputs": [],
     "prompt_number": 69
    },
    {
     "cell_type": "code",
     "collapsed": false,
     "input": [
      "def draw(a):\n",
      "    plot(x, sin(a*x)/x)\n",
      "    ylim(-2,3)"
     ],
     "language": "python",
     "metadata": {},
     "outputs": [],
     "prompt_number": 70
    },
    {
     "cell_type": "code",
     "collapsed": false,
     "input": [
      "interact(draw, a=(1,20.))"
     ],
     "language": "python",
     "metadata": {},
     "outputs": [
      {
       "metadata": {},
       "output_type": "pyout",
       "prompt_number": 71,
       "text": [
        "<function __main__.draw>"
       ]
      },
      {
       "metadata": {},
       "output_type": "display_data",
       "png": "[encoded data removed]",
       "text": [
        "<matplotlib.figure.Figure at 0x1061ebfd0>"
       ]
      }
     ],
     "prompt_number": 71
    },
    {
     "cell_type": "code",
     "collapsed": false,
     "input": [],
     "language": "python",
     "metadata": {},
     "outputs": [],
     "prompt_number": 71
    }
   ],
   "metadata": {}
  }
 ]
}