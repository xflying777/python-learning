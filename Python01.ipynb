{
 "metadata": {
  "name": "Python01",
  "signature": "sha256:71f064a46c51a4440b50892d489d2e944371da1c16f2c178c5b8bab1ccf5c9b9"
 },
 "nbformat": 3,
 "nbformat_minor": 0,
 "worksheets": [
  {
   "cells": [
    {
     "cell_type": "markdown",
     "metadata": {},
     "source": [
      "# Nano Data Analysis with Python I\n",
      "\n",
      "\n",
      "\n",
      "\n",
      "## \u8521\u708e\u9f8d\n",
      "\n",
      "### \u653f\u6cbb\u5927\u5b78\u61c9\u7528\u6578\u5b78\u7cfb\n",
      "\n",
      "\n",
      "\n",
      "\n",
      "\n",
      "\n",
      "\n",
      "\n",
      "\n",
      "\n",
      "\n",
      "\n"
     ]
    },
    {
     "cell_type": "code",
     "collapsed": false,
     "input": [
      "%run talktools.py"
     ],
     "language": "python",
     "metadata": {},
     "outputs": [
      {
       "output_type": "stream",
       "stream": "stderr",
       "text": [
        "ERROR: File `u'talktools.py'` not found.\n"
       ]
      }
     ],
     "prompt_number": 1
    },
    {
     "cell_type": "markdown",
     "metadata": {
      "slideshow": {
       "slide_type": "slide"
      }
     },
     "source": [
      "## 1. \u7528 Python \u7576\u8a08\u7b97\u6a5f\n",
      "\u5176\u5be6, \u5149\u662f\u7528 Python \u7576\u8a08\u7b97\u6a5f\u5c31\u5df2\u7d93\u56de\u672c!"
     ]
    },
    {
     "cell_type": "markdown",
     "metadata": {
      "slideshow": {
       "slide_type": "slide"
      }
     },
     "source": [
      "### 1-1 \u8a66\u7528\u4e00\u4e0b\u8a08\u7b97\u6a5f"
     ]
    },
    {
     "cell_type": "code",
     "collapsed": false,
     "input": [
      "1 + 3"
     ],
     "language": "python",
     "metadata": {},
     "outputs": [
      {
       "metadata": {},
       "output_type": "pyout",
       "prompt_number": 1,
       "text": [
        "4"
       ]
      }
     ],
     "prompt_number": 1
    },
    {
     "cell_type": "code",
     "collapsed": false,
     "input": [
      "3 * 5"
     ],
     "language": "python",
     "metadata": {},
     "outputs": [
      {
       "metadata": {},
       "output_type": "pyout",
       "prompt_number": 2,
       "text": [
        "15"
       ]
      }
     ],
     "prompt_number": 2
    },
    {
     "cell_type": "code",
     "collapsed": false,
     "input": [
      "2 / 3"
     ],
     "language": "python",
     "metadata": {},
     "outputs": [
      {
       "metadata": {},
       "output_type": "pyout",
       "prompt_number": 3,
       "text": [
        "0"
       ]
      }
     ],
     "prompt_number": 3
    },
    {
     "cell_type": "markdown",
     "metadata": {},
     "source": [
      "\u7b49\u7b49, 2/3 \u600e\u9ebc\u6703\u662f 0? \u539f\u56e0\u662f Python \u628a\u5b83\u7576\u6574\u6578\u9664\u6cd5, \u8981\u6c42\u7d50\u679c\u4e00\u5b9a\u8981\u6574\u6578!"
     ]
    },
    {
     "cell_type": "code",
     "collapsed": false,
     "input": [
      "2.0/5.0"
     ],
     "language": "python",
     "metadata": {},
     "outputs": [
      {
       "metadata": {},
       "output_type": "pyout",
       "prompt_number": 4,
       "text": [
        "0.4"
       ]
      }
     ],
     "prompt_number": 4
    },
    {
     "cell_type": "code",
     "collapsed": false,
     "input": [
      "35*(27-8)"
     ],
     "language": "python",
     "metadata": {},
     "outputs": [
      {
       "metadata": {},
       "output_type": "pyout",
       "prompt_number": 6,
       "text": [
        "665"
       ]
      }
     ],
     "prompt_number": 6
    },
    {
     "cell_type": "markdown",
     "metadata": {
      "slideshow": {
       "slide_type": "slide"
      }
     },
     "source": [
      "### 1-2 \u6307\u6578\u7684\u8a08\u7b97"
     ]
    },
    {
     "cell_type": "markdown",
     "metadata": {},
     "source": [
      "\u6307\u6578\u7684\u8a08\u7b97\u8981\u7528\u5169\u9846\u661f **"
     ]
    },
    {
     "cell_type": "code",
     "collapsed": false,
     "input": [
      "2**3"
     ],
     "language": "python",
     "metadata": {},
     "outputs": [
      {
       "metadata": {},
       "output_type": "pyout",
       "prompt_number": 8,
       "text": [
        "8"
       ]
      }
     ],
     "prompt_number": 8
    },
    {
     "cell_type": "markdown",
     "metadata": {},
     "source": [
      "\u8981\u5148\u7b97\u7684\u6771\u897f\u52a0\u62ec\u865f"
     ]
    },
    {
     "cell_type": "code",
     "collapsed": false,
     "input": [
      "(2+3)*8"
     ],
     "language": "python",
     "metadata": {},
     "outputs": [
      {
       "metadata": {},
       "output_type": "pyout",
       "prompt_number": 7,
       "text": [
        "40"
       ]
      }
     ],
     "prompt_number": 7
    },
    {
     "cell_type": "markdown",
     "metadata": {
      "slideshow": {
       "slide_type": "slide"
      }
     },
     "source": [
      "### 1-3 \u8907\u96dc\u4e00\u9ede\u7684\u8a08\u7b97\n",
      "\n",
      "\u6211\u5011\u5728\u505a\u8907\u96dc\u4e00\u9ede\u7684\u8a08\u7b97, \u5e38\u5e38\u9700\u8981\u628a\u7b97\u597d\u7684\u6771\u897f\u5148\u300c\u8a18\u8d77\u4f86\u300d\u3002\u6211\u500b\u4eba\u5f9e\u4f86\u6c92\u6709\u5f04\u61c2\u8a08\u7b97\u6a5f\u9019\u6a23\u7684\u529f\u80fd\u600e\u9ebc\u7528, \u4e0d\u904e\u7528 Python \u5f88\u5bb9\u6613: \u7528\u4f60\u9ad8\u8208\u7684\u540d\u5b57\u8a18\u8d77\u4f86\u5c31\u662f\u4e86\u3002"
     ]
    },
    {
     "cell_type": "code",
     "collapsed": false,
     "input": [
      "yenlung = 5 + 3"
     ],
     "language": "python",
     "metadata": {},
     "outputs": [],
     "prompt_number": 9
    },
    {
     "cell_type": "code",
     "collapsed": false,
     "input": [
      "yenlung + 3"
     ],
     "language": "python",
     "metadata": {},
     "outputs": [
      {
       "metadata": {},
       "output_type": "pyout",
       "prompt_number": 10,
       "text": [
        "11"
       ]
      }
     ],
     "prompt_number": 10
    },
    {
     "cell_type": "markdown",
     "metadata": {},
     "source": [
      "\u9084\u6709\u66f4\u81ea\u7531\u7684!"
     ]
    },
    {
     "cell_type": "code",
     "collapsed": false,
     "input": [
      "b, c = 2, 4"
     ],
     "language": "python",
     "metadata": {},
     "outputs": [],
     "prompt_number": 10
    },
    {
     "cell_type": "code",
     "collapsed": false,
     "input": [
      "b + c"
     ],
     "language": "python",
     "metadata": {},
     "outputs": [
      {
       "metadata": {},
       "output_type": "pyout",
       "prompt_number": 11,
       "text": [
        "6"
       ]
      }
     ],
     "prompt_number": 11
    },
    {
     "cell_type": "markdown",
     "metadata": {},
     "source": [
      "\u751a\u81f3\u50cf\u9019\u6a23\u4e5f\u884c!"
     ]
    },
    {
     "cell_type": "code",
     "collapsed": false,
     "input": [
      "d = e = f = 7"
     ],
     "language": "python",
     "metadata": {},
     "outputs": [],
     "prompt_number": 12
    },
    {
     "cell_type": "code",
     "collapsed": false,
     "input": [
      "d + e + f"
     ],
     "language": "python",
     "metadata": {},
     "outputs": [
      {
       "metadata": {},
       "output_type": "pyout",
       "prompt_number": 13,
       "text": [
        "21"
       ]
      }
     ],
     "prompt_number": 13
    },
    {
     "cell_type": "markdown",
     "metadata": {
      "slideshow": {
       "slide_type": "slide"
      }
     },
     "source": [
      "## 2. \u7b2c\u4e00\u500b\u9b54\u8853\u6307\u4ee4\n",
      "\n",
      "\u4ecb\u7d39\u5b8c\u7c21\u55ae\u5bb9\u6613\u52a0\u7121\u804a\u7684\u8a08\u7b97, \u6211\u5011\u4f86\u770b\u9ede\u6709\u8da3\u4e00\u9ede\u7684\u6771\u897f\u3002IPython \u6709\u8a31\u591a\u5f88\u9177\u7684\u88ab\u7a31\u70ba magic functions \u7684\u9b54\u8853\u6307\u4ee4\u3002\u9019\u4e9b\u9b54\u8853\u6307\u4ee4\u4e26\u4e0d\u662f Python \u7684\u6a19\u6e96\u5167\u5bb9, \u6240\u4ee5\u53ea\u80fd\u5728 IPython \u4f7f\u7528\u3002"
     ]
    },
    {
     "cell_type": "markdown",
     "metadata": {
      "slideshow": {
       "slide_type": "slide"
      }
     },
     "source": [
      "### 2-1 \u9b54\u8853\u4f86\u4e86!\n",
      "\n",
      "\u6211\u5011\u4ecb\u7d39\u7b2c\u4e00\u500b\u3001\u4e5f\u8a31\u4e5f\u662f\u6700\u91cd\u8981\u7684, \u6703\u8b80\u5165\u91cd\u5927\u6578\u5b78\u8a08\u7b97\u3001\u756b\u5716\u529f\u80fd\u7684\u9b54\u8853\u6307\u4ee4\u3002"
     ]
    },
    {
     "cell_type": "code",
     "collapsed": false,
     "input": [
      "%pylab inline"
     ],
     "language": "python",
     "metadata": {},
     "outputs": [
      {
       "output_type": "stream",
       "stream": "stdout",
       "text": [
        "Populating the interactive namespace from numpy and matplotlib\n"
       ]
      }
     ],
     "prompt_number": 11
    },
    {
     "cell_type": "markdown",
     "metadata": {
      "slideshow": {
       "slide_type": "slide"
      }
     },
     "source": [
      "### 2-2 \u4e32\u5217\u662f\u57fa\u672c\u7684\u8cc7\u6599\u7d50\u69cb\n",
      "\n",
      "\u5982\u679c\u9084\u8a18\u5f97\u6211\u5011\u8981\u505a\u7684\u53eb\u8cc7\u6599\u5206\u6790, \u9019\u88e1\u9762\u5f88\u57fa\u672c\u7684\u8cc7\u6599\u578b\u5f0f\u5c31\u662f\u5982 Python \u4e2d\u7684\u4e32\u5217 (list)\u3002\u4e32\u5217\u5f88\u5bb9\u6613, \u5c31\u662f\u4e00\u5806\u6578\u5b57\u3001\u751a\u81f3\u4e0d\u4e00\u5b9a\u90fd\u8981\u6578\u5b57\u7684\u8cc7\u6599\u3002\u4f8b\u5982\u6211\u5011\u4f86\u500b\u53f0\u5317\u5e02\u5e73\u5747\u6eab\u5ea6\u3002"
     ]
    },
    {
     "cell_type": "code",
     "collapsed": false,
     "input": [
      "temp = [15.2, 15.2, 17.3, 21.0, 24.3, \n",
      "        26.7, 28.4, 28.2, 26.6, 23.3, 20.2, 17.0]"
     ],
     "language": "python",
     "metadata": {},
     "outputs": [],
     "prompt_number": 12
    },
    {
     "cell_type": "markdown",
     "metadata": {},
     "source": [
      "\u73fe\u5728\u6211\u5011\u60f3\u756b\u51fa\u4f86..."
     ]
    },
    {
     "cell_type": "code",
     "collapsed": false,
     "input": [
      "plot(temp)"
     ],
     "language": "python",
     "metadata": {
      "slideshow": {
       "slide_type": "slide"
      }
     },
     "outputs": [
      {
       "metadata": {},
       "output_type": "pyout",
       "prompt_number": 13,
       "text": [
        "[<matplotlib.lines.Line2D at 0x105dca810>]"
       ]
      },
      {
       "metadata": {},
       "output_type": "display_data",
       "png": "[encoded data removed]",
       "text": [
        "<matplotlib.figure.Figure at 0x105d9de50>"
       ]
      }
     ],
     "prompt_number": 13
    },
    {
     "cell_type": "markdown",
     "metadata": {
      "slideshow": {
       "slide_type": "slide"
      }
     },
     "source": [
      "plot \u9019\u500b\u6307\u4ee4\u5176\u5be6\u5f88\u5bb9\u6613, \u57fa\u672c\u7528\u6cd5\u5c31\u662f:\n",
      "    \n",
      "    plot(x \u7684\u5ea7\u6a19\u4e32\u5217, y\u3000\u7684\u5ea7\u6a19\u4e32\u5217)\n",
      "    \n",
      "\u5982\u679c\u6211\u5011\u5077\u61f6, \u6c92\u6709\u653e x \u7684\u5ea7\u6a19\u4e32\u5217, \u4e5f\u53ef\u4ee5\u53ea\u653e y \u7684:\n",
      "    \n",
      "    plot(y \u7684\u5ea7\u6a19\u4e32\u5217)\n",
      "    \n",
      "\u9019\u6642 Python \u6703\u81ea\u5df1\u52a0\u5165 x \u7684\u4e32\u5217\u662f [0, 1, 2, ..., n-1]\u3002\u5176\u4e2d n \u662f\u8cc7\u6599\u7684\u500b\u6578!\n",
      "\n",
      "\u4e0a\u9762\u7684\u4f8b\u5b50\u6211\u5011\u5982\u679c\u5805\u6301\u8981\u628a\u4e00\u500b\u6708\u4efd\u7684\u5ea7\u6a19\u653e\u9032\u53bb, \u53ef\u4ee5\u9019\u6a23\u8a2d\u3002"
     ]
    },
    {
     "cell_type": "code",
     "collapsed": false,
     "input": [
      "x = range(1,13)"
     ],
     "language": "python",
     "metadata": {},
     "outputs": [],
     "prompt_number": 16
    },
    {
     "cell_type": "code",
     "collapsed": false,
     "input": [
      "x"
     ],
     "language": "python",
     "metadata": {},
     "outputs": [
      {
       "metadata": {},
       "output_type": "pyout",
       "prompt_number": 17,
       "text": [
        "[1, 2, 3, 4, 5, 6, 7, 8, 9, 10, 11, 12]"
       ]
      }
     ],
     "prompt_number": 17
    },
    {
     "cell_type": "code",
     "collapsed": false,
     "input": [
      "plot(x, temp)"
     ],
     "language": "python",
     "metadata": {},
     "outputs": [
      {
       "metadata": {},
       "output_type": "pyout",
       "prompt_number": 19,
       "text": [
        "[<matplotlib.lines.Line2D at 0x105f1ff90>]"
       ]
      },
      {
       "metadata": {},
       "output_type": "display_data",
       "png": "[encoded data removed]",
       "text": [
        "<matplotlib.figure.Figure at 0x105cdb390>"
       ]
      }
     ],
     "prompt_number": 19
    },
    {
     "cell_type": "markdown",
     "metadata": {},
     "source": [
      "\u662f\u4e0d\u662f\u5f88\u9177? \u4ec0\u9ebc? \u4f60\u89ba\u5f97\u9577\u689d\u5716\u6bd4\u8f03\u5408\u9069? \u6c92\u554f\u984c!"
     ]
    },
    {
     "cell_type": "code",
     "collapsed": false,
     "input": [
      "bar(x,temp)"
     ],
     "language": "python",
     "metadata": {
      "slideshow": {
       "slide_type": "slide"
      }
     },
     "outputs": [
      {
       "metadata": {},
       "output_type": "pyout",
       "prompt_number": 20,
       "text": [
        "<Container object of 12 artists>"
       ]
      },
      {
       "metadata": {},
       "output_type": "display_data",
       "png": "[encoded data removed]",
       "text": [
        "<matplotlib.figure.Figure at 0x105f13d90>"
       ]
      }
     ],
     "prompt_number": 20
    },
    {
     "cell_type": "markdown",
     "metadata": {
      "slideshow": {
       "slide_type": "slide"
      }
     },
     "source": [
      "\u5834\u5916\u63d2\u64ad\u4e00\u500b\u800d\u5bf6\u756b\u6cd5\u3002\u4e0b\u9054\u795e\u79d8\u7684\n",
      "\n",
      "    plt.xkcd()\n",
      "\n",
      "\u4e4b\u5f8c, \u518d\u756b\u5716..."
     ]
    },
    {
     "cell_type": "code",
     "collapsed": false,
     "input": [
      "plt.xkcd()"
     ],
     "language": "python",
     "metadata": {},
     "outputs": [
      {
       "metadata": {},
       "output_type": "pyout",
       "prompt_number": 19,
       "text": [
        "<matplotlib.rc_context at 0x105dde450>"
       ]
      }
     ],
     "prompt_number": 19
    },
    {
     "cell_type": "code",
     "collapsed": false,
     "input": [
      "plot(x, temp)"
     ],
     "language": "python",
     "metadata": {},
     "outputs": [
      {
       "metadata": {},
       "output_type": "pyout",
       "prompt_number": 21,
       "text": [
        "[<matplotlib.lines.Line2D at 0x1060caa50>]"
       ]
      },
      {
       "metadata": {},
       "output_type": "display_data",
       "png": "[encoded data removed]",
       "text": [
        "<matplotlib.figure.Figure at 0x1060a7510>"
       ]
      }
     ],
     "prompt_number": 21
    },
    {
     "cell_type": "code",
     "collapsed": false,
     "input": [
      "bar(x, temp)"
     ],
     "language": "python",
     "metadata": {
      "slideshow": {
       "slide_type": "slide"
      }
     },
     "outputs": [
      {
       "metadata": {},
       "output_type": "pyout",
       "prompt_number": 23,
       "text": [
        "<Container object of 12 artists>"
       ]
      },
      {
       "metadata": {},
       "output_type": "display_data",
       "png": "[encoded data removed]",
       "text": [
        "<matplotlib.figure.Figure at 0x1062b9650>"
       ]
      }
     ],
     "prompt_number": 23
    },
    {
     "cell_type": "markdown",
     "metadata": {
      "slideshow": {
       "slide_type": "slide"
      }
     },
     "source": [
      "### 2-3 \u4e82\u6578\u5176\u5be6\u5f88\u53ef\u611b\n",
      "\n",
      "\u4e82\u6578\u662f\u597d\u73a9\u7684\u6839\u672c\u3002\n",
      "\n",
      "    a = randint(s,t)\n",
      "    \n",
      "\u662f\u96a8\u6a5f\u53d6\n",
      "\n",
      "$$s \\leq a < t$$\n",
      "    \n",
      "\u4e2d\u9593\u6574\u6578\u7684\u6578\u5b57\u3002"
     ]
    },
    {
     "cell_type": "code",
     "collapsed": false,
     "input": [
      "mylist = rand(100)"
     ],
     "language": "python",
     "metadata": {},
     "outputs": [],
     "prompt_number": 29
    },
    {
     "cell_type": "code",
     "collapsed": false,
     "input": [
      "mylist"
     ],
     "language": "python",
     "metadata": {},
     "outputs": [
      {
       "metadata": {},
       "output_type": "pyout",
       "prompt_number": 30,
       "text": [
        "array([ 0.68435297,  0.37986943,  0.58016911,  0.44829617,  0.71634577,\n",
        "        0.56872053,  0.65352867,  0.74029714,  0.75706759,  0.23361369,\n",
        "        0.13624939,  0.58608829,  0.31210862,  0.90428405,  0.53136223,\n",
        "        0.89625385,  0.03435665,  0.03105106,  0.53497171,  0.21769129,\n",
        "        0.19032211,  0.73648464,  0.37121694,  0.82707305,  0.6757034 ,\n",
        "        0.66396669,  0.08335824,  0.25863212,  0.87055265,  0.23964494,\n",
        "        0.47492179,  0.39058832,  0.17350086,  0.1849214 ,  0.86679984,\n",
        "        0.02290651,  0.89691364,  0.3419555 ,  0.87584245,  0.69604612,\n",
        "        0.210037  ,  0.24317535,  0.43527561,  0.80251706,  0.38340327,\n",
        "        0.16052048,  0.94527299,  0.72309663,  0.72648837,  0.70508991,\n",
        "        0.00280156,  0.28429602,  0.75483796,  0.54501751,  0.49592966,\n",
        "        0.63550675,  0.86619103,  0.50090858,  0.88988035,  0.85193455,\n",
        "        0.53692199,  0.24023067,  0.01804733,  0.68988808,  0.32965862,\n",
        "        0.07319528,  0.24607094,  0.79185974,  0.07872393,  0.76671734,\n",
        "        0.87073202,  0.23401152,  0.08731193,  0.09991248,  0.95386735,\n",
        "        0.44345568,  0.11518702,  0.51693077,  0.70548955,  0.30615926,\n",
        "        0.74240871,  0.60028058,  0.24844302,  0.50642014,  0.71355611,\n",
        "        0.50859617,  0.80297507,  0.28859228,  0.92038058,  0.70128812,\n",
        "        0.59196729,  0.2977818 ,  0.5718433 ,  0.45598955,  0.36415998,\n",
        "        0.27768649,  0.25353443,  0.75848999,  0.43671383,  0.95743834])"
       ]
      }
     ],
     "prompt_number": 30
    },
    {
     "cell_type": "markdown",
     "metadata": {},
     "source": [
      "\u5982\u679c\u7528\n",
      "\n",
      "    rand(100)\n",
      "    \n",
      "\u610f\u601d\u662f\u62bd 100 \u500b 0 \u5230 1 \u7684\u4e82\u6578, \u653e\u6210\u4e00\u500b list (\u4e8b\u5be6\u4e0a\u662f array)"
     ]
    },
    {
     "cell_type": "code",
     "collapsed": false,
     "input": [
      "plot(rand(100))"
     ],
     "language": "python",
     "metadata": {},
     "outputs": [
      {
       "metadata": {},
       "output_type": "pyout",
       "prompt_number": 32,
       "text": [
        "[<matplotlib.lines.Line2D at 0x1061b0dd0>]"
       ]
      },
      {
       "metadata": {},
       "output_type": "display_data",
       "png": "[encoded data removed]",
       "text": [
        "<matplotlib.figure.Figure at 0x106190110>"
       ]
      }
     ],
     "prompt_number": 32
    },
    {
     "cell_type": "markdown",
     "metadata": {
      "slideshow": {
       "slide_type": "slide"
      }
     },
     "source": [
      "## 3. Python \u7684\u5b57\u4e32\u548c\u51fd\u6578"
     ]
    },
    {
     "cell_type": "markdown",
     "metadata": {
      "slideshow": {
       "slide_type": "slide"
      }
     },
     "source": [
      "### 3-1 Hello World for Python\n",
      "\n",
      "\u5f88\u591a\u7a0b\u5f0f\u4e00\u958b\u59cb\u90fd\u6559 \"Hello, World!\" \u6211\u5011\u5927\u5bb6\u6703\u9019\u6a23\u7528\u5f88\u53ef\u80fd\u662f\u56e0\u70ba Brian Kernighan \u548c Dennis Ritchie \u4ed6\u5011\u7684 C \u8a9e\u8a00\u8056\u7d93 \"The C Programming Language\" \u4f86\u7684\u3002\u4e0d\u904e, \u5728 1974 \u5e74 Kernighan \u5728\u8c9d\u723e\u5be6\u9a57\u5ba4\u5167\u90e8\u6587\u4ef6 \"Programming in C: A Tutorial\" \u5c31\u6559\u5927\u5bb6\u600e\u9ebc print \u51fa \"hello world\"\u3002\n",
      "\n",
      "\u8aaa\u4e86\u9019\u9ebc\u9577\u7684\u5ee2\u8a71, \u6211\u5011\u958b\u59cb\u4ecb\u7d39 Python \u7248\u7684 Hello World, \u800c\u5beb\u5b8c\u4f60\u5c31\u77e5\u9053\u70ba\u4ec0\u9ebc\u4e0d\u4e00\u958b\u59cb\u4ecb\u7d39\u3002"
     ]
    },
    {
     "cell_type": "code",
     "collapsed": false,
     "input": [
      "print \"\u4f60\u597d, \u4e16\u754c!\""
     ],
     "language": "python",
     "metadata": {},
     "outputs": [
      {
       "output_type": "stream",
       "stream": "stdout",
       "text": [
        "\u4f60\u597d, \u4e16\u754c!\n"
       ]
      }
     ],
     "prompt_number": 34
    },
    {
     "cell_type": "markdown",
     "metadata": {
      "slideshow": {
       "slide_type": "slide"
      }
     },
     "source": [
      "### 3\uff0d2 Python \u7684\u5b57\u4e32\n",
      "\n",
      "\u7576\u4f60\u767c\u73fe Python \u7684 hello world \u5be6\u5728\u6c92\u6709\u4ec0\u9ebc\u597d\u4ecb\u7d39, \u4e5f\u767c\u73fe\u6709\u500b\u7279\u5225\u7684\u4e8b: \u6211\u5011\u9700\u8981\u628a Hello World \u62ec\u8d77\u4f86\u3002\u9019\u5728 Python \u53eb\u5b57\u4e32, \u662f\u53e6\u4e00\u500b\u5f88\u57fa\u672c\u7684\u8cc7\u6599\u578b\u614b (\u53ef\u80fd\u6bd4\u4e32\u5217\u9084\u57fa\u672c, \u4e0d\u904e\u6211\u5011\u8cc7\u6599\u5206\u6790\u5c0e\u5411, \u4e32\u5217\u5148\u4ecb\u7d39\u4e5f\u662f\u81ea\u7136\u7684)\u3002"
     ]
    },
    {
     "cell_type": "code",
     "collapsed": false,
     "input": [
      "st = \"\"\"This is a book. \n",
      "\u53ef\u4ee5\n",
      "\u4e0b\u4e00\u6bb5\"\"\""
     ],
     "language": "python",
     "metadata": {},
     "outputs": [],
     "prompt_number": 43
    },
    {
     "cell_type": "code",
     "collapsed": false,
     "input": [
      "print st"
     ],
     "language": "python",
     "metadata": {},
     "outputs": [
      {
       "output_type": "stream",
       "stream": "stdout",
       "text": [
        "This is a book. \n",
        "\u53ef\u4ee5\n",
        "\u4e0b\u4e00\u6bb5\n"
       ]
      }
     ],
     "prompt_number": 44
    },
    {
     "cell_type": "code",
     "collapsed": false,
     "input": [
      "message = \"\u4f60\u597d, \u4e16\u754c!\""
     ],
     "language": "python",
     "metadata": {},
     "outputs": [],
     "prompt_number": 30
    },
    {
     "cell_type": "code",
     "collapsed": false,
     "input": [
      "print message"
     ],
     "language": "python",
     "metadata": {},
     "outputs": [
      {
       "output_type": "stream",
       "stream": "stdout",
       "text": [
        "\u4f60\u597d, \u4e16\u754c!\n"
       ]
      }
     ],
     "prompt_number": 31
    },
    {
     "cell_type": "markdown",
     "metadata": {},
     "source": [
      "\u6700\u53ef\u611b\u7684\u662f, \u5b57\u4e32\u53ef\u4ee5\u76f8\u52a0\u3001\u505a\u300c\u7d14\u91cf\u4e58\u6cd5\u300d!"
     ]
    },
    {
     "cell_type": "code",
     "collapsed": false,
     "input": [
      "st1 = \"Mac\"\n",
      "st2 = \"Book\""
     ],
     "language": "python",
     "metadata": {},
     "outputs": [],
     "prompt_number": 45
    },
    {
     "cell_type": "code",
     "collapsed": false,
     "input": [
      "print st1 + st2"
     ],
     "language": "python",
     "metadata": {},
     "outputs": [
      {
       "output_type": "stream",
       "stream": "stdout",
       "text": [
        "MacBook\n"
       ]
      }
     ],
     "prompt_number": 46
    },
    {
     "cell_type": "code",
     "collapsed": false,
     "input": [
      "range(10)"
     ],
     "language": "python",
     "metadata": {},
     "outputs": [
      {
       "metadata": {},
       "output_type": "pyout",
       "prompt_number": 54,
       "text": [
        "[0, 1, 2, 3, 4, 5, 6, 7, 8, 9]"
       ]
      }
     ],
     "prompt_number": 54
    },
    {
     "cell_type": "code",
     "collapsed": false,
     "input": [
      "for i in range(10):\n",
      "    print \" \"*randint(1,20) + \"*\"\n"
     ],
     "language": "python",
     "metadata": {},
     "outputs": [
      {
       "output_type": "stream",
       "stream": "stdout",
       "text": [
        "     *\n",
        "              *\n",
        "    *\n",
        "                *\n",
        "       *\n",
        "               *\n",
        "                *\n",
        " *\n",
        "          *\n",
        "                 *\n"
       ]
      }
     ],
     "prompt_number": 56
    },
    {
     "cell_type": "markdown",
     "metadata": {
      "slideshow": {
       "slide_type": "slide"
      }
     },
     "source": [
      "### 3-3 \u5f88\u591a\u611b\u7684\u51fd\u6578\n",
      "\n",
      "\u6211\u5011\u5982\u679c\u770b\u9ad8\u8208, \u6709\u6642\u60f3\u5370\u51fa\u4e00\u500b love, \u6709\u6642 3 \u500b, \u6709\u6642 99 \u500b\u3002\u81ea\u7136\u7528\u4e0a\u9762\u7684\u6307\u4ee4\u53ea\u6709\u4e00\u884c, \u6240\u4ee5\u5f88\u7c21\u55ae\u3002\u4f46\u662f\u53ef\u4e0d\u53ef\u4ee5\u4e0d\u8981\u6253\u90a3\u9ebc\u591a\u5b57? \u4e5f\u5c31\u662f\u6211\u5011\u5e0c\u671b\u6709\u4e00\u6bb5\u7a0b\u5f0f\u78bc\u53ef\u91cd\u8986\u4f7f\u7528, \u5c24\u5176\u4ee5\u5f8c\u4e8b\u60c5\u8b8a\u5f97\u8907\u96dc\u4e4b\u5f8c..."
     ]
    },
    {
     "cell_type": "code",
     "collapsed": false,
     "input": [
      "def love(n):\n",
      "    print \"Hi\"\n",
      "    print \"love\"*n"
     ],
     "language": "python",
     "metadata": {},
     "outputs": [],
     "prompt_number": 63
    },
    {
     "cell_type": "code",
     "collapsed": false,
     "input": [
      "love(3)"
     ],
     "language": "python",
     "metadata": {},
     "outputs": [
      {
       "output_type": "stream",
       "stream": "stdout",
       "text": [
        "Hi\n",
        "lovelovelove\n"
       ]
      }
     ],
     "prompt_number": 64
    },
    {
     "cell_type": "code",
     "collapsed": false,
     "input": [
      "love(7)"
     ],
     "language": "python",
     "metadata": {},
     "outputs": [
      {
       "output_type": "stream",
       "stream": "stdout",
       "text": [
        "Hi\n",
        "lovelovelovelovelovelovelove\n"
       ]
      }
     ],
     "prompt_number": 65
    },
    {
     "cell_type": "markdown",
     "metadata": {},
     "source": [
      "\u628a\u525b\u525b love \u51fd\u6578\u7a0d\u7a0d\u4fee\u6539\u4e00\u4e0b\u3002"
     ]
    },
    {
     "cell_type": "code",
     "collapsed": false,
     "input": [
      "def love(n):\n",
      "    print \">///<\"\n",
      "    print \"love\"*n"
     ],
     "language": "python",
     "metadata": {},
     "outputs": [],
     "prompt_number": 66
    },
    {
     "cell_type": "code",
     "collapsed": false,
     "input": [
      "love(5)"
     ],
     "language": "python",
     "metadata": {},
     "outputs": [
      {
       "output_type": "stream",
       "stream": "stdout",
       "text": [
        ">///<\n",
        "lovelovelovelovelove\n"
       ]
      }
     ],
     "prompt_number": 67
    },
    {
     "cell_type": "markdown",
     "metadata": {},
     "source": [
      "\u6211\u5011\u53ef\u4ee5\u767c\u73fe, \u8981\u8b93 Python \u77e5\u9053\u662f\u540c\u4e00\u500b\u5340\u584a\u7684\u6771\u897f, \u8981\u7528\u5167\u7e2e! \u800c\u4e14\u540c\u4e00\u5340\u7684\u5167\u7e2e\u4f4d\u7f6e\u8981\u4e00\u6a23! \u8a31\u591a\u7a0b\u5f0f\u8981\u7528\u5927\u62ec\u865f\u4e4b\u985e\u8868\u793a\u540c\u4e00\u5340, \u4f46\u611b Python \u7684\u901a\u5e38\u89ba\u5f97 Python \u9019\u6a23\u624d\u512a\u96c5\u7f8e\u89c0\u3002"
     ]
    },
    {
     "cell_type": "markdown",
     "metadata": {
      "slideshow": {
       "slide_type": "slide"
      }
     },
     "source": [
      "### 3-4 \u4f86\u7b97\u500b BMI\n",
      "\n",
      "\u6211\u5011\u77e5\u9053, \u7576\u4e00\u500b\u4eba\u7684 BMI \u662f\u9019\u6a23\u7b97\u7684:\n",
      "\n",
      "$$ BMI = \\frac{\\mbox{\u9ad4\u91cd (kg)}}{\\mbox{\u8eab\u9ad8 (m)}^2}$$\n",
      "\n",
      "\u73fe\u5728\u6211\u60f3\u5beb\u4e00\u500b Python \u51fd\u6578\u4f86\u7b97 BMI!"
     ]
    },
    {
     "cell_type": "code",
     "collapsed": false,
     "input": [
      "def bmi(w, h):\n",
      "    b = w / h**2\n",
      "    return b"
     ],
     "language": "python",
     "metadata": {},
     "outputs": [],
     "prompt_number": 68
    },
    {
     "cell_type": "markdown",
     "metadata": {},
     "source": [
      "\u6700\u5f8c\u4e00\u884c\u7684 return, \u662f\u6a19\u6e96\u51fd\u6578\u7684\u5beb\u6cd5\u3002\u9019\u610f\u601d\u5c31\u50cf\u6578\u5b78\u4e0a f(x)=x+4, \u5982\u679c\u6211\u5011\u8f38\u5165 f(2), \u8981\u56de\u50b3 (return) 6 \u4e00\u6a23!"
     ]
    },
    {
     "cell_type": "code",
     "collapsed": false,
     "input": [
      "mybmi = bmi(75, 1.79)\n",
      "print mybmi"
     ],
     "language": "python",
     "metadata": {},
     "outputs": [
      {
       "output_type": "stream",
       "stream": "stdout",
       "text": [
        "23.4075091289\n"
       ]
      }
     ],
     "prompt_number": 71
    },
    {
     "cell_type": "code",
     "collapsed": false,
     "input": [
      "myweight = 75\n",
      "myheight = 1.79\n",
      "mybmi = bmi(myweight, myheight)"
     ],
     "language": "python",
     "metadata": {},
     "outputs": [],
     "prompt_number": 72
    },
    {
     "cell_type": "code",
     "collapsed": false,
     "input": [
      "print \"\u6211\u7684 BMI \u662f \" + str(mybmi)"
     ],
     "language": "python",
     "metadata": {},
     "outputs": [
      {
       "output_type": "stream",
       "stream": "stdout",
       "text": [
        "\u6211\u7684 BMI \u662f 23.4075091289\n"
       ]
      }
     ],
     "prompt_number": 76
    },
    {
     "cell_type": "markdown",
     "metadata": {
      "slideshow": {
       "slide_type": "slide"
      }
     },
     "source": [
      "## 4. \u628a\u6211\u5011\u7684\u5de5\u4f5c\u5b58\u8d77\u4f86\n",
      "\n",
      "\u73fe\u5728\u6211\u5011\u4ecb\u7d39\u7b2c\u4e8c\u500b IPython \u7684\u9b54\u8853\u6307\u4ee4\u53eb\u505a %save\u3002\u9019\u500b\u6307\u4ee4\u9867\u540d\u601d\u610f\u5c31\u662f\u8981\u628a\u6211\u5011\u7684\u6a94\u6848\u5b58\u8d77\u4f86, \u4ee5\u5f8c\u53ef\u4ee5\u518d\u53eb\u51fa\u4f86\u57f7\u884c\u3002\u5e73\u5e38 Python \u6a94\u7684\u7d50\u5c3e\u662f .py, \u6240\u4ee5\u6211\u5011\u8981\u5b58\u6210 .py \u6a94\u3002"
     ]
    },
    {
     "cell_type": "markdown",
     "metadata": {
      "slideshow": {
       "slide_type": "slide"
      }
     },
     "source": [
      "### 4-1 \u4f7f\u7528 %save \u9b54\u8853\u6307\u4ee4\n",
      "\n",
      "\u5047\u8a2d\u6211\u5011\u60f3\u628a bmi \u7a0b\u5f0f\u5b58\u8d77\u4f86, \u7136\u5f8c\u53eb\u505a bmical.py\u3002\u4e4b\u524d\u7684 bmi \u662f 41, 43-44 \u9019\u4e09\u884c (\u78ba\u8a8d\u4f60\u7684, \u56e0\u70ba\u6211\u5011\u53ef\u80fd\u8a66\u5f88\u591a\u6771\u897f, \u8f38\u5165\u884c\u4e0d\u540c)\u3002"
     ]
    },
    {
     "cell_type": "code",
     "collapsed": false,
     "input": [
      "%save bmical.py 41 43-44"
     ],
     "language": "python",
     "metadata": {},
     "outputs": [
      {
       "name": "stdout",
       "output_type": "stream",
       "stream": "stdout",
       "text": [
        "File `bmical.py` exists. Overwrite (y/[N])?  y\n"
       ]
      },
      {
       "output_type": "stream",
       "stream": "stdout",
       "text": [
        "The following commands were written to file `bmical.py`:\n",
        "def bmi(weight, height):\n",
        "    thebmi = weight/height**2\n",
        "    return thebmi\n",
        "myweight = 75\n",
        "myheight = 1.79\n",
        "mybmi = bmi(myweight, myheight)\n",
        "print \"\u6211\u7684 BMI \u662f\", mybmi\n"
       ]
      }
     ],
     "prompt_number": 47
    },
    {
     "cell_type": "markdown",
     "metadata": {},
     "source": [
      "Python \u5c31\u6703\u5b58\u5728\u76ee\u524d\u7684\u8def\u5f91, \u6211\u5011\u9084\u53ef\u4ee5\u7528 %run \u4f86\u57f7\u884c (\u4e8b\u5be6\u4e0a\u4ee5\u5f8c\u5728\u7cfb\u7d71\u547d\u4ee4\u5340\u7528 python bmical.py \u4e5f\u53ef\u4ee5\u57f7\u884c\u4e86!)"
     ]
    },
    {
     "cell_type": "code",
     "collapsed": false,
     "input": [
      "%run bmical.py"
     ],
     "language": "python",
     "metadata": {},
     "outputs": [
      {
       "output_type": "stream",
       "stream": "stdout",
       "text": [
        "\u6211\u7684 BMI \u662f 23.4075091289\n"
       ]
      }
     ],
     "prompt_number": 48
    },
    {
     "cell_type": "markdown",
     "metadata": {},
     "source": [
      "\u4f60\u53ef\u80fd\u4e00\u6642\u7121\u6cd5\u611f\u53d7\u5230, \u4f46\u662f\u5f88\u591a\u4eba (\u5305\u62ec\u8001\u624b) \u5b78\u6703\u9019\u500b %save \u548c %run \u90fd\u9a5a\u547c\u9023\u9023, \u9019\u771f\u662f\u592a\u9177\u4e86! \u4f60\u53ef\u4ee5\u4e00\u908a\u73a9\u4e00\u908a\u5c31\u5beb\u597d\u4e00\u500b\u7a0b\u5f0f\u3002"
     ]
    },
    {
     "cell_type": "markdown",
     "metadata": {
      "slideshow": {
       "slide_type": "slide"
      }
     },
     "source": [
      "## 4-2 \u4f60\u7684\u5de5\u4f5c\u8def\u5f91\n",
      "\n",
      "\u7b49\u4e00\u4e0b, \u525b\u525b\u6211\u5011\u53ef\u611b\u7684 bmical.py \u5b58\u5230\u54ea\u53bb\u4e86? \u4f60\u60f3\u77e5\u9053\u5b58\u5230\u54ea\u5c31\u7528 pwd \u9019\u500b (\u5176\u5be6\u662f\u9b54\u8853\u6307\u4ee4) \u6307\u4ee4\u3002"
     ]
    },
    {
     "cell_type": "code",
     "collapsed": false,
     "input": [
      "pwd"
     ],
     "language": "python",
     "metadata": {},
     "outputs": [
      {
       "metadata": {},
       "output_type": "pyout",
       "prompt_number": 50,
       "text": [
        "u'/Users/mac/Dropbox/IPython Folder/IPython 101'"
       ]
      }
     ],
     "prompt_number": 50
    },
    {
     "cell_type": "markdown",
     "metadata": {},
     "source": [
      "\u4e0d\u592a\u6eff\u610f\u8981\u5b58\u5728\u9019\u88e1, \u6211\u5011\u53ef\u4ee5\u7528 cd \u4f86\u6539\u8b8a\u4f4d\u7f6e\u3002\u4e00\u822c\u7cfb\u7d71 (\u5305\u62ec Windows!) \u90fd\u53ef\u4ee5\u7528\n",
      "\n",
      "cd ~\n",
      "\n",
      "\u5230\u81ea\u5df1\u7684\u300c\u5bb6\u76ee\u9304\u300d, \u800c\n",
      "\n",
      "cd ~/Desktop\n",
      "\n",
      "\u5230\u300c\u684c\u9762\u300d\u3002"
     ]
    },
    {
     "cell_type": "code",
     "collapsed": false,
     "input": [
      "cd ~"
     ],
     "language": "python",
     "metadata": {},
     "outputs": [
      {
       "output_type": "stream",
       "stream": "stdout",
       "text": [
        "/Users/mac\n"
       ]
      }
     ],
     "prompt_number": 51
    },
    {
     "cell_type": "code",
     "collapsed": false,
     "input": [
      "cd ~/Desktop/"
     ],
     "language": "python",
     "metadata": {},
     "outputs": [
      {
       "output_type": "stream",
       "stream": "stdout",
       "text": [
        "/Users/mac/Desktop\n"
       ]
      }
     ],
     "prompt_number": 52
    },
    {
     "cell_type": "markdown",
     "metadata": {},
     "source": [
      "\u6211\u5011\u73fe\u5728\u5728\u684c\u9762, \u60f3\u8981\u505a\u4e00\u500b\u8cc7\u6599\u593e, \u53eb myprojects, \u7136\u5f8c\u518d\u7528 cd \u9032\u53bb\u3001\u5b58\u525b\u525b\u7684 bmi \u7a0b\u5f0f, \u8981\u600e\u9ebc\u505a\u5462?"
     ]
    },
    {
     "cell_type": "code",
     "collapsed": false,
     "input": [
      "mkdir myprojects"
     ],
     "language": "python",
     "metadata": {},
     "outputs": [],
     "prompt_number": 53
    },
    {
     "cell_type": "code",
     "collapsed": false,
     "input": [
      "cd myprojects"
     ],
     "language": "python",
     "metadata": {},
     "outputs": [
      {
       "output_type": "stream",
       "stream": "stdout",
       "text": [
        "/Users/mac/Desktop/myprojects\n"
       ]
      }
     ],
     "prompt_number": 54
    },
    {
     "cell_type": "code",
     "collapsed": false,
     "input": [
      "%save bmical.py 41 43-44"
     ],
     "language": "python",
     "metadata": {},
     "outputs": [
      {
       "output_type": "stream",
       "stream": "stdout",
       "text": [
        "The following commands were written to file `bmical.py`:\n",
        "def bmi(weight, height):\n",
        "    thebmi = weight/height**2\n",
        "    return thebmi\n",
        "myweight = 75\n",
        "myheight = 1.79\n",
        "mybmi = bmi(myweight, myheight)\n",
        "print \"\u6211\u7684 BMI \u662f\", mybmi\n"
       ]
      }
     ],
     "prompt_number": 55
    },
    {
     "cell_type": "markdown",
     "metadata": {
      "slideshow": {
       "slide_type": "slide"
      }
     },
     "source": [
      "## 4-3 \u505a\u5de5\u4f5c\u8def\u5f91\u7684\u66f8\u7c64\n",
      "\n",
      "\u73fe\u5728\u4f60\u5728\u684c\u9762\u4e0a\u7684 myprojects, \u53ef\u4ee5\u627e\u5230\u4f60\u7684\u5de5\u4f5c\u6a94\u6848\u3002\u554f\u984c\u662f, \u6211\u5011\u4e0d\u5c0f\u5fc3\u53d6\u4e86\u9ad8\u96c5 (?) \u7684\u540d\u5b57, \u8aaa\u4e0d\u5b9a\u4e0a\u5348\u8a2d\u597d, \u4e0b\u5348\u5c31\u5fd8\u4e86\u5728\u54ea\u3002\u9019\u8a72\u5982\u4f55\u662f\u597d? \u5f88\u5bb9\u6613, \u53ea\u8981 %bookmark (\u9b54\u8853\u53c8\u4f86\u4e86!) \u8d77\u4f86\u5c31\u597d\u3002\n",
      "\n",
      "\u6bd4\u5982\u6211\u60f3\u628a\u9019\u500b\u66f8\u7c64\u53eb me\u3002"
     ]
    },
    {
     "cell_type": "code",
     "collapsed": false,
     "input": [
      "%bookmark me"
     ],
     "language": "python",
     "metadata": {},
     "outputs": [],
     "prompt_number": 60
    },
    {
     "cell_type": "markdown",
     "metadata": {},
     "source": [
      "\u518d\u4f86\u6211\u5011\u96a8\u4fbf\u9032\u5225\u7684\u76ee\u9304\u3002"
     ]
    },
    {
     "cell_type": "code",
     "collapsed": false,
     "input": [
      "cd ~/Documents/"
     ],
     "language": "python",
     "metadata": {},
     "outputs": [
      {
       "output_type": "stream",
       "stream": "stdout",
       "text": [
        "/Users/mac/Documents\n"
       ]
      }
     ],
     "prompt_number": 61
    },
    {
     "cell_type": "markdown",
     "metadata": {},
     "source": [
      "\u7136\u5f8c cd me..."
     ]
    },
    {
     "cell_type": "code",
     "collapsed": false,
     "input": [
      "cd me"
     ],
     "language": "python",
     "metadata": {},
     "outputs": [
      {
       "output_type": "stream",
       "stream": "stdout",
       "text": [
        "(bookmark:me) -> /Users/mac/Desktop/myprojects\n",
        "/Users/mac/Desktop/myprojects\n"
       ]
      }
     ],
     "prompt_number": 62
    },
    {
     "cell_type": "markdown",
     "metadata": {},
     "source": [
      "\u56de\u4f86\u4e86, \u6211\u5011\u771f\u7684\u56de\u4f86\u4e86!! \u800c\u4e14\u6700\u9177\u7684\u662f, \u4f60\u95dc\u6389 IPython, \u4e0b\u6b21\u518d\u57f7\u884c, \u4ed6\u9084\u662f\u8a18\u5f97\u4f60\u7684\u66f8\u7c64!"
     ]
    },
    {
     "cell_type": "markdown",
     "metadata": {
      "slideshow": {
       "slide_type": "slide"
      }
     },
     "source": [
      "## 4-4 \u770b\u6211\u5011\u7684\u76ee\u9304\u4e2d\u6709\u4ec0\u9ebc\u6a94\u6848\n",
      "\n",
      "\u7528 ls \u4f86\u770b\u6211\u5011\u76ee\u9304\u4e2d\u7684\u6a94\u6848\u3002"
     ]
    },
    {
     "cell_type": "code",
     "collapsed": false,
     "input": [
      "ls"
     ],
     "language": "python",
     "metadata": {},
     "outputs": [
      {
       "output_type": "stream",
       "stream": "stdout",
       "text": [
        "bmical.py\r\n"
       ]
      }
     ],
     "prompt_number": 63
    },
    {
     "cell_type": "markdown",
     "metadata": {},
     "source": [
      "\u73fe\u5728\u5c31\u6211\u5011\u525b\u525b\u5beb\u7684 bmical.py\u3002\n",
      "\n",
      "\u76ee\u524d\u6211\u5011\u4ecb\u7d39\u7684\u50cf\u662f pwd, cd, mkdir, ls \u90fd\u662f Unix like \u7cfb\u7d71\u7684\u6a19\u6e96\u6307\u4ee4 (\u6240\u4ee5\u5728 Linux \u5566, Mac \u7684\u7d42\u7aef\u6a5f\u90fd\u662f\u9019\u9ebc\u7528\u7684)\u3002\u4f60\u6709\u6642\u807d\u5230\u4eba\u5bb6\u8aaa\u5728 Linux \u6253\u6307\u4ee4\u5c31\u662f\u9019\u9ebc\u56de\u4e8b, \u4e5f\u4e0d\u662f\u9019\u9ebc\u96e3\u7684\u4e8b\u60c5\u5c0d\u5427?"
     ]
    },
    {
     "cell_type": "markdown",
     "metadata": {
      "slideshow": {
       "slide_type": "slide"
      }
     },
     "source": [
      "## 4. Python \u7684\u8ff4\u5708\n",
      "\n",
      "\u56de\u60f3\u6211\u5011\u53f0\u5317\u5e02\u6eab\u5ea6\u7684\u8cc7\u6599, \u6211\u5011\u60f3\u7565\u7565\u8655\u7406\u4e00\u4e0b\u3002"
     ]
    },
    {
     "cell_type": "markdown",
     "metadata": {
      "slideshow": {
       "slide_type": "slide"
      }
     },
     "source": [
      "### 4-1 for \u8ff4\u5708\u7684\u57fa\u672c\n",
      "\n",
      "Python \u8ff4\u5708\u548c\u8a31\u591a\u7a0b\u5f0f\u8a9e\u8a00\u4e0d\u4e00\u6a23, \u57fa\u672c\u4e0a\u5c31\u662f\u8981\u6709\u500b list, \u4f60\u518d\u628a list \u4e2d\u7684\u5143\u7d20\u4e00\u4e00\u53eb\u51fa\u4f86\u3002"
     ]
    },
    {
     "cell_type": "code",
     "collapsed": false,
     "input": [
      "for t in temp:\n",
      "    print t"
     ],
     "language": "python",
     "metadata": {},
     "outputs": [
      {
       "output_type": "stream",
       "stream": "stdout",
       "text": [
        "15.2\n",
        "15.2\n",
        "17.3\n",
        "21.0\n",
        "24.3\n",
        "26.7\n",
        "28.4\n",
        "28.2\n",
        "26.6\n",
        "23.3\n",
        "20.2\n",
        "17.0\n"
       ]
      }
     ],
     "prompt_number": 65
    },
    {
     "cell_type": "markdown",
     "metadata": {
      "slideshow": {
       "slide_type": "slide"
      }
     },
     "source": [
      "### 4-2 \u518d\u4f86\u548c list \u73a9\u800d\n",
      "\n",
      "\u57fa\u672c\u4e0a\u525b\u525b\u7684\u8cc7\u6599, \u6211\u5011\u770b\u4e0d\u592a\u61c2\u54ea\u500b\u662f\u54ea\u6708\u4efd\u7684\u3002\u6211\u5011\u4f86\u66f4\u77ad\u89e3\u4e00\u4e0b\u600e\u9ebc\u73a9 list\u3002\u9996\u5148\u662f\u53d6\u51fa\u67d0\u500b\u6708\u4efd\u7684\u8cc7\u6599\u3002"
     ]
    },
    {
     "cell_type": "code",
     "collapsed": false,
     "input": [
      "temp[3]"
     ],
     "language": "python",
     "metadata": {},
     "outputs": [
      {
       "metadata": {},
       "output_type": "pyout",
       "prompt_number": 67,
       "text": [
        "21.0"
       ]
      }
     ],
     "prompt_number": 67
    },
    {
     "cell_type": "markdown",
     "metadata": {},
     "source": [
      "\u597d, \u9019\u500b\u5c31\u662f... 4 \u6708\u4efd\u5e73\u5747\u6eab\u5ea6... \u70ba\u4ec0\u9ebc\u4e0d\u662f 3 \u6708\u4efd, \u56e0\u70ba Python \u7684 list \u662f\u5f9e 0, 1, 2, ... \u9019\u6a23\u7b97\u7684\u3002\u6240\u4ee5 1 \u6708\u4efd\u662f:"
     ]
    },
    {
     "cell_type": "code",
     "collapsed": false,
     "input": [
      "temp[0]"
     ],
     "language": "python",
     "metadata": {},
     "outputs": [
      {
       "metadata": {},
       "output_type": "pyout",
       "prompt_number": 68,
       "text": [
        "15.2"
       ]
      }
     ],
     "prompt_number": 68
    },
    {
     "cell_type": "markdown",
     "metadata": {},
     "source": [
      "#### \u4e32\u5217\u7d22\u5f15\u7684\u79d8\u5bc6\n",
      "\n",
      "![Python Slices](/path/to/img.jpg)"
     ]
    },
    {
     "cell_type": "code",
     "collapsed": false,
     "input": [
      "# \u53d6\u51fa\u67d0\u6bb5 slice\n",
      "# range \u7b49\n",
      "# \u5370\u51fa\u6708"
     ],
     "language": "python",
     "metadata": {},
     "outputs": [],
     "prompt_number": 2
    },
    {
     "cell_type": "code",
     "collapsed": false,
     "input": [],
     "language": "python",
     "metadata": {},
     "outputs": []
    }
   ],
   "metadata": {}
  }
 ]
}