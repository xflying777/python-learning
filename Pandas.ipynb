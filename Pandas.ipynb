{
 "metadata": {
  "name": "",
  "signature": "sha256:208b35911217c804862f863462b7080e741b14d090811da8155eb80fa421dc48"
 },
 "nbformat": 3,
 "nbformat_minor": 0,
 "worksheets": [
  {
   "cells": [
    {
     "cell_type": "markdown",
     "metadata": {},
     "source": [
      "###\u958b\u59cb\u4f7f\u7528 Pandas"
     ]
    },
    {
     "cell_type": "code",
     "collapsed": false,
     "input": [
      "import pandas as pd"
     ],
     "language": "python",
     "metadata": {},
     "outputs": [],
     "prompt_number": 1
    },
    {
     "cell_type": "markdown",
     "metadata": {},
     "source": [
      "###\u8b80\u5165\u4e00\u500bCSV\u6a94"
     ]
    },
    {
     "cell_type": "code",
     "collapsed": false,
     "input": [
      "df = pd.read_csv(\"grades.csv\")"
     ],
     "language": "python",
     "metadata": {},
     "outputs": [],
     "prompt_number": 2
    },
    {
     "cell_type": "markdown",
     "metadata": {},
     "source": [
      "###\u770b\u770b\u524d\u4e94\u7b46\u8cc7\u6599"
     ]
    },
    {
     "cell_type": "code",
     "collapsed": false,
     "input": [
      "df.head()"
     ],
     "language": "python",
     "metadata": {},
     "outputs": [
      {
       "html": [
        "<div style=\"max-height:1000px;max-width:1500px;overflow:auto;\">\n",
        "<table border=\"1\" class=\"dataframe\">\n",
        "  <thead>\n",
        "    <tr style=\"text-align: right;\">\n",
        "      <th></th>\n",
        "      <th>\u59d3\u540d</th>\n",
        "      <th>\u570b\u6587</th>\n",
        "      <th>\u82f1\u6587</th>\n",
        "      <th>\u6578\u5b78</th>\n",
        "      <th>\u81ea\u7136</th>\n",
        "      <th>\u793e\u6703</th>\n",
        "    </tr>\n",
        "  </thead>\n",
        "  <tbody>\n",
        "    <tr>\n",
        "      <th>0</th>\n",
        "      <td> \u5289\u4fca\u5b89</td>\n",
        "      <td>  9</td>\n",
        "      <td> 10</td>\n",
        "      <td> 15</td>\n",
        "      <td> 10</td>\n",
        "      <td> 13</td>\n",
        "    </tr>\n",
        "    <tr>\n",
        "      <th>1</th>\n",
        "      <td> \u80e1\u7389\u83ef</td>\n",
        "      <td> 10</td>\n",
        "      <td> 10</td>\n",
        "      <td> 10</td>\n",
        "      <td>  8</td>\n",
        "      <td>  9</td>\n",
        "    </tr>\n",
        "    <tr>\n",
        "      <th>2</th>\n",
        "      <td> \u9ec3\u6dd1\u5a77</td>\n",
        "      <td> 13</td>\n",
        "      <td> 15</td>\n",
        "      <td>  8</td>\n",
        "      <td> 11</td>\n",
        "      <td> 14</td>\n",
        "    </tr>\n",
        "    <tr>\n",
        "      <th>3</th>\n",
        "      <td> \u9673\u4e0a\u7d2b</td>\n",
        "      <td> 10</td>\n",
        "      <td> 10</td>\n",
        "      <td>  8</td>\n",
        "      <td>  9</td>\n",
        "      <td> 14</td>\n",
        "    </tr>\n",
        "    <tr>\n",
        "      <th>4</th>\n",
        "      <td> \u5d14\u975c\u6210</td>\n",
        "      <td> 13</td>\n",
        "      <td> 12</td>\n",
        "      <td> 14</td>\n",
        "      <td> 12</td>\n",
        "      <td> 13</td>\n",
        "    </tr>\n",
        "  </tbody>\n",
        "</table>\n",
        "</div>"
       ],
       "metadata": {},
       "output_type": "pyout",
       "prompt_number": 4,
       "text": [
        "    \u59d3\u540d  \u570b\u6587  \u82f1\u6587  \u6578\u5b78  \u81ea\u7136  \u793e\u6703\n",
        "0  \u5289\u4fca\u5b89   9  10  15  10  13\n",
        "1  \u80e1\u7389\u83ef  10  10  10   8   9\n",
        "2  \u9ec3\u6dd1\u5a77  13  15   8  11  14\n",
        "3  \u9673\u4e0a\u7d2b  10  10   8   9  14\n",
        "4  \u5d14\u975c\u6210  13  12  14  12  13"
       ]
      }
     ],
     "prompt_number": 4
    },
    {
     "cell_type": "markdown",
     "metadata": {},
     "source": [
      "####\u8b80Excel\u6a94\n",
      "####df2 = pd.read_excel('filenames.xls', 'sheet name')"
     ]
    },
    {
     "cell_type": "markdown",
     "metadata": {},
     "source": [
      "##3.\u5728\u4e00\u500bseries\u4e0a\u5de5\u4f5c"
     ]
    },
    {
     "cell_type": "code",
     "collapsed": false,
     "input": [
      "df[\"\u570b\u6587\"]"
     ],
     "language": "python",
     "metadata": {},
     "outputs": [
      {
       "metadata": {},
       "output_type": "pyout",
       "prompt_number": 5,
       "text": [
        "0      9\n",
        "1     10\n",
        "2     13\n",
        "3     10\n",
        "4     13\n",
        "5     13\n",
        "6     11\n",
        "7      8\n",
        "8      9\n",
        "9     10\n",
        "10    14\n",
        "11    13\n",
        "12    11\n",
        "13    15\n",
        "14     8\n",
        "...\n",
        "85    10\n",
        "86    11\n",
        "87    10\n",
        "88    11\n",
        "89    13\n",
        "90     8\n",
        "91    14\n",
        "92     8\n",
        "93    11\n",
        "94    10\n",
        "95     9\n",
        "96     8\n",
        "97    14\n",
        "98    15\n",
        "99     9\n",
        "Name: \u570b\u6587, Length: 100, dtype: int64"
       ]
      }
     ],
     "prompt_number": 5
    },
    {
     "cell_type": "code",
     "collapsed": false,
     "input": [
      "%pylab inline"
     ],
     "language": "python",
     "metadata": {},
     "outputs": [
      {
       "output_type": "stream",
       "stream": "stdout",
       "text": [
        "Populating the interactive namespace from numpy and matplotlib\n"
       ]
      }
     ],
     "prompt_number": 6
    },
    {
     "cell_type": "code",
     "collapsed": false,
     "input": [
      "df[\"\u570b\u6587\"].plot()"
     ],
     "language": "python",
     "metadata": {},
     "outputs": [
      {
       "metadata": {},
       "output_type": "pyout",
       "prompt_number": 7,
       "text": [
        "<matplotlib.axes.AxesSubplot at 0xc02a828>"
       ]
      },
      {
       "metadata": {},
       "output_type": "display_data",
       "png": "[encoded data removed]",
       "text": [
        "<matplotlib.figure.Figure at 0xaab9978>"
       ]
      }
     ],
     "prompt_number": 7
    },
    {
     "cell_type": "code",
     "collapsed": false,
     "input": [
      "df[\"\u570b\u6587\"].hist(bins=15)"
     ],
     "language": "python",
     "metadata": {},
     "outputs": [
      {
       "metadata": {},
       "output_type": "pyout",
       "prompt_number": 8,
       "text": [
        "<matplotlib.axes.AxesSubplot at 0xc0baeb8>"
       ]
      },
      {
       "metadata": {},
       "output_type": "display_data",
       "png": "[encoded data removed]",
       "text": [
        "<matplotlib.figure.Figure at 0xc13f278>"
       ]
      }
     ],
     "prompt_number": 8
    },
    {
     "cell_type": "markdown",
     "metadata": {},
     "source": [
      "###bins\u907f\u514d\u4e0d\u77e5\u540d\u7684\u5206\u9694"
     ]
    },
    {
     "cell_type": "markdown",
     "metadata": {},
     "source": [
      "##\u4e00\u4e9b\u57fa\u672c\u7684\u8cc7\u6599\u5206\u6790"
     ]
    },
    {
     "cell_type": "code",
     "collapsed": false,
     "input": [
      "df.describe()"
     ],
     "language": "python",
     "metadata": {},
     "outputs": [
      {
       "html": [
        "<div style=\"max-height:1000px;max-width:1500px;overflow:auto;\">\n",
        "<table border=\"1\" class=\"dataframe\">\n",
        "  <thead>\n",
        "    <tr style=\"text-align: right;\">\n",
        "      <th></th>\n",
        "      <th>\u570b\u6587</th>\n",
        "      <th>\u82f1\u6587</th>\n",
        "      <th>\u6578\u5b78</th>\n",
        "      <th>\u81ea\u7136</th>\n",
        "      <th>\u793e\u6703</th>\n",
        "    </tr>\n",
        "  </thead>\n",
        "  <tbody>\n",
        "    <tr>\n",
        "      <th>count</th>\n",
        "      <td> 100.000000</td>\n",
        "      <td> 100.000000</td>\n",
        "      <td> 100.000000</td>\n",
        "      <td> 100.00000</td>\n",
        "      <td> 100.00000</td>\n",
        "    </tr>\n",
        "    <tr>\n",
        "      <th>mean</th>\n",
        "      <td>  11.390000</td>\n",
        "      <td>  11.380000</td>\n",
        "      <td>  11.570000</td>\n",
        "      <td>  11.03000</td>\n",
        "      <td>  11.83000</td>\n",
        "    </tr>\n",
        "    <tr>\n",
        "      <th>std</th>\n",
        "      <td>   2.196853</td>\n",
        "      <td>   2.273164</td>\n",
        "      <td>   2.310516</td>\n",
        "      <td>   2.21772</td>\n",
        "      <td>   2.48655</td>\n",
        "    </tr>\n",
        "    <tr>\n",
        "      <th>min</th>\n",
        "      <td>   8.000000</td>\n",
        "      <td>   8.000000</td>\n",
        "      <td>   8.000000</td>\n",
        "      <td>   8.00000</td>\n",
        "      <td>   8.00000</td>\n",
        "    </tr>\n",
        "    <tr>\n",
        "      <th>25%</th>\n",
        "      <td>   9.000000</td>\n",
        "      <td>   9.000000</td>\n",
        "      <td>  10.000000</td>\n",
        "      <td>   9.00000</td>\n",
        "      <td>   9.00000</td>\n",
        "    </tr>\n",
        "    <tr>\n",
        "      <th>50%</th>\n",
        "      <td>  11.000000</td>\n",
        "      <td>  11.000000</td>\n",
        "      <td>  11.000000</td>\n",
        "      <td>  11.00000</td>\n",
        "      <td>  12.00000</td>\n",
        "    </tr>\n",
        "    <tr>\n",
        "      <th>75%</th>\n",
        "      <td>  13.000000</td>\n",
        "      <td>  13.000000</td>\n",
        "      <td>  14.000000</td>\n",
        "      <td>  13.00000</td>\n",
        "      <td>  14.00000</td>\n",
        "    </tr>\n",
        "    <tr>\n",
        "      <th>max</th>\n",
        "      <td>  15.000000</td>\n",
        "      <td>  15.000000</td>\n",
        "      <td>  15.000000</td>\n",
        "      <td>  15.00000</td>\n",
        "      <td>  15.00000</td>\n",
        "    </tr>\n",
        "  </tbody>\n",
        "</table>\n",
        "</div>"
       ],
       "metadata": {},
       "output_type": "pyout",
       "prompt_number": 9,
       "text": [
        "               \u570b\u6587          \u82f1\u6587          \u6578\u5b78         \u81ea\u7136         \u793e\u6703\n",
        "count  100.000000  100.000000  100.000000  100.00000  100.00000\n",
        "mean    11.390000   11.380000   11.570000   11.03000   11.83000\n",
        "std      2.196853    2.273164    2.310516    2.21772    2.48655\n",
        "min      8.000000    8.000000    8.000000    8.00000    8.00000\n",
        "25%      9.000000    9.000000   10.000000    9.00000    9.00000\n",
        "50%     11.000000   11.000000   11.000000   11.00000   12.00000\n",
        "75%     13.000000   13.000000   14.000000   13.00000   14.00000\n",
        "max     15.000000   15.000000   15.000000   15.00000   15.00000"
       ]
      }
     ],
     "prompt_number": 9
    },
    {
     "cell_type": "code",
     "collapsed": false,
     "input": [
      "df.corr()"
     ],
     "language": "python",
     "metadata": {},
     "outputs": [
      {
       "html": [
        "<div style=\"max-height:1000px;max-width:1500px;overflow:auto;\">\n",
        "<table border=\"1\" class=\"dataframe\">\n",
        "  <thead>\n",
        "    <tr style=\"text-align: right;\">\n",
        "      <th></th>\n",
        "      <th>\u570b\u6587</th>\n",
        "      <th>\u82f1\u6587</th>\n",
        "      <th>\u6578\u5b78</th>\n",
        "      <th>\u81ea\u7136</th>\n",
        "      <th>\u793e\u6703</th>\n",
        "    </tr>\n",
        "  </thead>\n",
        "  <tbody>\n",
        "    <tr>\n",
        "      <th>\u570b\u6587</th>\n",
        "      <td> 1.000000</td>\n",
        "      <td> 0.160158</td>\n",
        "      <td>-0.310899</td>\n",
        "      <td>-0.110236</td>\n",
        "      <td>-0.028421</td>\n",
        "    </tr>\n",
        "    <tr>\n",
        "      <th>\u82f1\u6587</th>\n",
        "      <td> 0.160158</td>\n",
        "      <td> 1.000000</td>\n",
        "      <td> 0.025656</td>\n",
        "      <td> 0.113929</td>\n",
        "      <td>-0.063512</td>\n",
        "    </tr>\n",
        "    <tr>\n",
        "      <th>\u6578\u5b78</th>\n",
        "      <td>-0.310899</td>\n",
        "      <td> 0.025656</td>\n",
        "      <td> 1.000000</td>\n",
        "      <td> 0.014371</td>\n",
        "      <td> 0.041651</td>\n",
        "    </tr>\n",
        "    <tr>\n",
        "      <th>\u81ea\u7136</th>\n",
        "      <td>-0.110236</td>\n",
        "      <td> 0.113929</td>\n",
        "      <td> 0.014371</td>\n",
        "      <td> 1.000000</td>\n",
        "      <td>-0.156594</td>\n",
        "    </tr>\n",
        "    <tr>\n",
        "      <th>\u793e\u6703</th>\n",
        "      <td>-0.028421</td>\n",
        "      <td>-0.063512</td>\n",
        "      <td> 0.041651</td>\n",
        "      <td>-0.156594</td>\n",
        "      <td> 1.000000</td>\n",
        "    </tr>\n",
        "  </tbody>\n",
        "</table>\n",
        "</div>"
       ],
       "metadata": {},
       "output_type": "pyout",
       "prompt_number": 10,
       "text": [
        "          \u570b\u6587        \u82f1\u6587        \u6578\u5b78        \u81ea\u7136        \u793e\u6703\n",
        "\u570b\u6587  1.000000  0.160158 -0.310899 -0.110236 -0.028421\n",
        "\u82f1\u6587  0.160158  1.000000  0.025656  0.113929 -0.063512\n",
        "\u6578\u5b78 -0.310899  0.025656  1.000000  0.014371  0.041651\n",
        "\u81ea\u7136 -0.110236  0.113929  0.014371  1.000000 -0.156594\n",
        "\u793e\u6703 -0.028421 -0.063512  0.041651 -0.156594  1.000000"
       ]
      }
     ],
     "prompt_number": 10
    },
    {
     "cell_type": "markdown",
     "metadata": {},
     "source": [
      "\u53ea\u770b\u5169\u79d1\u4e4b\u9593\u7684\u76f8\u95dc\u4fc2\u6578"
     ]
    },
    {
     "cell_type": "code",
     "collapsed": false,
     "input": [
      "df[\"\u570b\u6587\"].corr(df[\"\u6578\u5b78\"])"
     ],
     "language": "python",
     "metadata": {},
     "outputs": [
      {
       "metadata": {},
       "output_type": "pyout",
       "prompt_number": 11,
       "text": [
        "-0.31089898221793333"
       ]
      }
     ],
     "prompt_number": 11
    },
    {
     "cell_type": "code",
     "collapsed": false,
     "input": [],
     "language": "python",
     "metadata": {},
     "outputs": []
    },
    {
     "cell_type": "markdown",
     "metadata": {},
     "source": [
      "##4.\u7d14\u624b\u5de5\u6253\u9020\u7684DataFrame"
     ]
    },
    {
     "cell_type": "markdown",
     "metadata": {},
     "source": [
      "\u8b80\u5165\u540c\u5b78\u540d\u55ae(\u59d3\u540d\u7522\u751f\u5668\u4f86\u7684)"
     ]
    },
    {
     "cell_type": "code",
     "collapsed": false,
     "input": [
      "names = pd.read_csv('grades.csv', names = [\"\u59d3\u540d\"])"
     ],
     "language": "python",
     "metadata": {},
     "outputs": [],
     "prompt_number": 32
    },
    {
     "cell_type": "code",
     "collapsed": false,
     "input": [
      "grades = pd.DataFrame(randint(6,16,(100,5)),\n",
      "                      columns = [\"\u570b\u6587\",\"\u82f1\u6587\",\"\u6578\u5b78\",\"\u793e\u6703\",\"\u81ea\u7136\"])"
     ],
     "language": "python",
     "metadata": {},
     "outputs": [],
     "prompt_number": 33
    },
    {
     "cell_type": "code",
     "collapsed": false,
     "input": [
      "grades[\"\u7e3d\u7d1a\u5206\"] = grades[[\"\u570b\u6587\",\"\u82f1\u6587\",\"\u6578\u5b78\",\"\u793e\u6703\",\"\u81ea\u7136\"]].sum(1)"
     ],
     "language": "python",
     "metadata": {},
     "outputs": [],
     "prompt_number": 34
    },
    {
     "cell_type": "code",
     "collapsed": false,
     "input": [
      "grades.head()"
     ],
     "language": "python",
     "metadata": {},
     "outputs": [
      {
       "html": [
        "<div style=\"max-height:1000px;max-width:1500px;overflow:auto;\">\n",
        "<table border=\"1\" class=\"dataframe\">\n",
        "  <thead>\n",
        "    <tr style=\"text-align: right;\">\n",
        "      <th></th>\n",
        "      <th>\u570b\u6587</th>\n",
        "      <th>\u82f1\u6587</th>\n",
        "      <th>\u6578\u5b78</th>\n",
        "      <th>\u793e\u6703</th>\n",
        "      <th>\u81ea\u7136</th>\n",
        "      <th>\u7e3d\u7d1a\u5206</th>\n",
        "    </tr>\n",
        "  </thead>\n",
        "  <tbody>\n",
        "    <tr>\n",
        "      <th>0</th>\n",
        "      <td>  9</td>\n",
        "      <td> 14</td>\n",
        "      <td> 14</td>\n",
        "      <td> 11</td>\n",
        "      <td>  6</td>\n",
        "      <td> 54</td>\n",
        "    </tr>\n",
        "    <tr>\n",
        "      <th>1</th>\n",
        "      <td> 14</td>\n",
        "      <td>  7</td>\n",
        "      <td>  8</td>\n",
        "      <td> 15</td>\n",
        "      <td>  6</td>\n",
        "      <td> 50</td>\n",
        "    </tr>\n",
        "    <tr>\n",
        "      <th>2</th>\n",
        "      <td> 13</td>\n",
        "      <td> 12</td>\n",
        "      <td>  7</td>\n",
        "      <td>  6</td>\n",
        "      <td> 15</td>\n",
        "      <td> 53</td>\n",
        "    </tr>\n",
        "    <tr>\n",
        "      <th>3</th>\n",
        "      <td> 12</td>\n",
        "      <td>  6</td>\n",
        "      <td> 13</td>\n",
        "      <td> 12</td>\n",
        "      <td>  6</td>\n",
        "      <td> 49</td>\n",
        "    </tr>\n",
        "    <tr>\n",
        "      <th>4</th>\n",
        "      <td> 11</td>\n",
        "      <td> 10</td>\n",
        "      <td> 12</td>\n",
        "      <td> 12</td>\n",
        "      <td> 11</td>\n",
        "      <td> 56</td>\n",
        "    </tr>\n",
        "  </tbody>\n",
        "</table>\n",
        "</div>"
       ],
       "metadata": {},
       "output_type": "pyout",
       "prompt_number": 35,
       "text": [
        "   \u570b\u6587  \u82f1\u6587  \u6578\u5b78  \u793e\u6703  \u81ea\u7136  \u7e3d\u7d1a\u5206\n",
        "0   9  14  14  11   6   54\n",
        "1  14   7   8  15   6   50\n",
        "2  13  12   7   6  15   53\n",
        "3  12   6  13  12   6   49\n",
        "4  11  10  12  12  11   56"
       ]
      }
     ],
     "prompt_number": 35
    },
    {
     "cell_type": "code",
     "collapsed": false,
     "input": [
      "grades[\"\u4e3b\u79d1\"] = grades[\"\u6578\u5b78\"]*1.5 + grades[\"\u82f1\u6587\"]"
     ],
     "language": "python",
     "metadata": {},
     "outputs": [],
     "prompt_number": 37
    },
    {
     "cell_type": "code",
     "collapsed": false,
     "input": [
      "grades.head()"
     ],
     "language": "python",
     "metadata": {},
     "outputs": [
      {
       "html": [
        "<div style=\"max-height:1000px;max-width:1500px;overflow:auto;\">\n",
        "<table border=\"1\" class=\"dataframe\">\n",
        "  <thead>\n",
        "    <tr style=\"text-align: right;\">\n",
        "      <th></th>\n",
        "      <th>\u570b\u6587</th>\n",
        "      <th>\u82f1\u6587</th>\n",
        "      <th>\u6578\u5b78</th>\n",
        "      <th>\u793e\u6703</th>\n",
        "      <th>\u81ea\u7136</th>\n",
        "      <th>\u7e3d\u7d1a\u5206</th>\n",
        "      <th>\u4e3b\u79d1</th>\n",
        "    </tr>\n",
        "  </thead>\n",
        "  <tbody>\n",
        "    <tr>\n",
        "      <th>0</th>\n",
        "      <td>  9</td>\n",
        "      <td> 14</td>\n",
        "      <td> 14</td>\n",
        "      <td> 11</td>\n",
        "      <td>  6</td>\n",
        "      <td> 54</td>\n",
        "      <td> 35.0</td>\n",
        "    </tr>\n",
        "    <tr>\n",
        "      <th>1</th>\n",
        "      <td> 14</td>\n",
        "      <td>  7</td>\n",
        "      <td>  8</td>\n",
        "      <td> 15</td>\n",
        "      <td>  6</td>\n",
        "      <td> 50</td>\n",
        "      <td> 19.0</td>\n",
        "    </tr>\n",
        "    <tr>\n",
        "      <th>2</th>\n",
        "      <td> 13</td>\n",
        "      <td> 12</td>\n",
        "      <td>  7</td>\n",
        "      <td>  6</td>\n",
        "      <td> 15</td>\n",
        "      <td> 53</td>\n",
        "      <td> 22.5</td>\n",
        "    </tr>\n",
        "    <tr>\n",
        "      <th>3</th>\n",
        "      <td> 12</td>\n",
        "      <td>  6</td>\n",
        "      <td> 13</td>\n",
        "      <td> 12</td>\n",
        "      <td>  6</td>\n",
        "      <td> 49</td>\n",
        "      <td> 25.5</td>\n",
        "    </tr>\n",
        "    <tr>\n",
        "      <th>4</th>\n",
        "      <td> 11</td>\n",
        "      <td> 10</td>\n",
        "      <td> 12</td>\n",
        "      <td> 12</td>\n",
        "      <td> 11</td>\n",
        "      <td> 56</td>\n",
        "      <td> 28.0</td>\n",
        "    </tr>\n",
        "  </tbody>\n",
        "</table>\n",
        "</div>"
       ],
       "metadata": {},
       "output_type": "pyout",
       "prompt_number": 38,
       "text": [
        "   \u570b\u6587  \u82f1\u6587  \u6578\u5b78  \u793e\u6703  \u81ea\u7136  \u7e3d\u7d1a\u5206    \u4e3b\u79d1\n",
        "0   9  14  14  11   6   54  35.0\n",
        "1  14   7   8  15   6   50  19.0\n",
        "2  13  12   7   6  15   53  22.5\n",
        "3  12   6  13  12   6   49  25.5\n",
        "4  11  10  12  12  11   56  28.0"
       ]
      }
     ],
     "prompt_number": 38
    },
    {
     "cell_type": "code",
     "collapsed": false,
     "input": [
      "grades.sort(columns = [\"\u7e3d\u7d1a\u5206\"], ascending = False).head(20)"
     ],
     "language": "python",
     "metadata": {},
     "outputs": [
      {
       "html": [
        "<div style=\"max-height:1000px;max-width:1500px;overflow:auto;\">\n",
        "<table border=\"1\" class=\"dataframe\">\n",
        "  <thead>\n",
        "    <tr style=\"text-align: right;\">\n",
        "      <th></th>\n",
        "      <th>\u570b\u6587</th>\n",
        "      <th>\u82f1\u6587</th>\n",
        "      <th>\u6578\u5b78</th>\n",
        "      <th>\u793e\u6703</th>\n",
        "      <th>\u81ea\u7136</th>\n",
        "      <th>\u7e3d\u7d1a\u5206</th>\n",
        "      <th>\u4e3b\u79d1</th>\n",
        "    </tr>\n",
        "  </thead>\n",
        "  <tbody>\n",
        "    <tr>\n",
        "      <th>23</th>\n",
        "      <td> 13</td>\n",
        "      <td> 13</td>\n",
        "      <td> 15</td>\n",
        "      <td> 12</td>\n",
        "      <td> 14</td>\n",
        "      <td> 67</td>\n",
        "      <td> 35.5</td>\n",
        "    </tr>\n",
        "    <tr>\n",
        "      <th>8 </th>\n",
        "      <td> 14</td>\n",
        "      <td> 13</td>\n",
        "      <td> 14</td>\n",
        "      <td> 12</td>\n",
        "      <td> 11</td>\n",
        "      <td> 64</td>\n",
        "      <td> 34.0</td>\n",
        "    </tr>\n",
        "    <tr>\n",
        "      <th>38</th>\n",
        "      <td> 11</td>\n",
        "      <td> 15</td>\n",
        "      <td> 14</td>\n",
        "      <td>  8</td>\n",
        "      <td> 15</td>\n",
        "      <td> 63</td>\n",
        "      <td> 36.0</td>\n",
        "    </tr>\n",
        "    <tr>\n",
        "      <th>80</th>\n",
        "      <td> 14</td>\n",
        "      <td> 14</td>\n",
        "      <td> 13</td>\n",
        "      <td>  8</td>\n",
        "      <td> 12</td>\n",
        "      <td> 61</td>\n",
        "      <td> 33.5</td>\n",
        "    </tr>\n",
        "    <tr>\n",
        "      <th>40</th>\n",
        "      <td> 11</td>\n",
        "      <td>  9</td>\n",
        "      <td> 15</td>\n",
        "      <td> 13</td>\n",
        "      <td> 13</td>\n",
        "      <td> 61</td>\n",
        "      <td> 31.5</td>\n",
        "    </tr>\n",
        "    <tr>\n",
        "      <th>32</th>\n",
        "      <td> 13</td>\n",
        "      <td> 14</td>\n",
        "      <td> 14</td>\n",
        "      <td>  9</td>\n",
        "      <td> 11</td>\n",
        "      <td> 61</td>\n",
        "      <td> 35.0</td>\n",
        "    </tr>\n",
        "    <tr>\n",
        "      <th>58</th>\n",
        "      <td> 15</td>\n",
        "      <td>  6</td>\n",
        "      <td> 14</td>\n",
        "      <td> 11</td>\n",
        "      <td> 14</td>\n",
        "      <td> 60</td>\n",
        "      <td> 27.0</td>\n",
        "    </tr>\n",
        "    <tr>\n",
        "      <th>9 </th>\n",
        "      <td> 15</td>\n",
        "      <td> 12</td>\n",
        "      <td>  6</td>\n",
        "      <td> 13</td>\n",
        "      <td> 14</td>\n",
        "      <td> 60</td>\n",
        "      <td> 21.0</td>\n",
        "    </tr>\n",
        "    <tr>\n",
        "      <th>72</th>\n",
        "      <td> 10</td>\n",
        "      <td> 15</td>\n",
        "      <td> 14</td>\n",
        "      <td>  8</td>\n",
        "      <td> 13</td>\n",
        "      <td> 60</td>\n",
        "      <td> 36.0</td>\n",
        "    </tr>\n",
        "    <tr>\n",
        "      <th>51</th>\n",
        "      <td> 13</td>\n",
        "      <td>  9</td>\n",
        "      <td> 11</td>\n",
        "      <td> 12</td>\n",
        "      <td> 14</td>\n",
        "      <td> 59</td>\n",
        "      <td> 25.5</td>\n",
        "    </tr>\n",
        "    <tr>\n",
        "      <th>20</th>\n",
        "      <td> 15</td>\n",
        "      <td> 13</td>\n",
        "      <td>  9</td>\n",
        "      <td>  7</td>\n",
        "      <td> 15</td>\n",
        "      <td> 59</td>\n",
        "      <td> 26.5</td>\n",
        "    </tr>\n",
        "    <tr>\n",
        "      <th>78</th>\n",
        "      <td> 14</td>\n",
        "      <td> 13</td>\n",
        "      <td> 15</td>\n",
        "      <td>  9</td>\n",
        "      <td>  8</td>\n",
        "      <td> 59</td>\n",
        "      <td> 35.5</td>\n",
        "    </tr>\n",
        "    <tr>\n",
        "      <th>74</th>\n",
        "      <td> 15</td>\n",
        "      <td>  7</td>\n",
        "      <td> 15</td>\n",
        "      <td> 10</td>\n",
        "      <td> 12</td>\n",
        "      <td> 59</td>\n",
        "      <td> 29.5</td>\n",
        "    </tr>\n",
        "    <tr>\n",
        "      <th>5 </th>\n",
        "      <td> 15</td>\n",
        "      <td> 12</td>\n",
        "      <td> 11</td>\n",
        "      <td>  6</td>\n",
        "      <td> 15</td>\n",
        "      <td> 59</td>\n",
        "      <td> 28.5</td>\n",
        "    </tr>\n",
        "    <tr>\n",
        "      <th>94</th>\n",
        "      <td> 12</td>\n",
        "      <td>  8</td>\n",
        "      <td> 14</td>\n",
        "      <td> 10</td>\n",
        "      <td> 15</td>\n",
        "      <td> 59</td>\n",
        "      <td> 29.0</td>\n",
        "    </tr>\n",
        "    <tr>\n",
        "      <th>25</th>\n",
        "      <td> 10</td>\n",
        "      <td> 13</td>\n",
        "      <td> 11</td>\n",
        "      <td> 14</td>\n",
        "      <td> 10</td>\n",
        "      <td> 58</td>\n",
        "      <td> 29.5</td>\n",
        "    </tr>\n",
        "    <tr>\n",
        "      <th>21</th>\n",
        "      <td> 12</td>\n",
        "      <td> 11</td>\n",
        "      <td>  9</td>\n",
        "      <td> 15</td>\n",
        "      <td> 11</td>\n",
        "      <td> 58</td>\n",
        "      <td> 24.5</td>\n",
        "    </tr>\n",
        "    <tr>\n",
        "      <th>16</th>\n",
        "      <td> 13</td>\n",
        "      <td>  9</td>\n",
        "      <td> 15</td>\n",
        "      <td> 14</td>\n",
        "      <td>  7</td>\n",
        "      <td> 58</td>\n",
        "      <td> 31.5</td>\n",
        "    </tr>\n",
        "    <tr>\n",
        "      <th>33</th>\n",
        "      <td> 11</td>\n",
        "      <td> 12</td>\n",
        "      <td> 15</td>\n",
        "      <td>  8</td>\n",
        "      <td> 12</td>\n",
        "      <td> 58</td>\n",
        "      <td> 34.5</td>\n",
        "    </tr>\n",
        "    <tr>\n",
        "      <th>52</th>\n",
        "      <td> 14</td>\n",
        "      <td> 13</td>\n",
        "      <td>  8</td>\n",
        "      <td> 11</td>\n",
        "      <td> 12</td>\n",
        "      <td> 58</td>\n",
        "      <td> 25.0</td>\n",
        "    </tr>\n",
        "  </tbody>\n",
        "</table>\n",
        "</div>"
       ],
       "metadata": {},
       "output_type": "pyout",
       "prompt_number": 39,
       "text": [
        "    \u570b\u6587  \u82f1\u6587  \u6578\u5b78  \u793e\u6703  \u81ea\u7136  \u7e3d\u7d1a\u5206    \u4e3b\u79d1\n",
        "23  13  13  15  12  14   67  35.5\n",
        "8   14  13  14  12  11   64  34.0\n",
        "38  11  15  14   8  15   63  36.0\n",
        "80  14  14  13   8  12   61  33.5\n",
        "40  11   9  15  13  13   61  31.5\n",
        "32  13  14  14   9  11   61  35.0\n",
        "58  15   6  14  11  14   60  27.0\n",
        "9   15  12   6  13  14   60  21.0\n",
        "72  10  15  14   8  13   60  36.0\n",
        "51  13   9  11  12  14   59  25.5\n",
        "20  15  13   9   7  15   59  26.5\n",
        "78  14  13  15   9   8   59  35.5\n",
        "74  15   7  15  10  12   59  29.5\n",
        "5   15  12  11   6  15   59  28.5\n",
        "94  12   8  14  10  15   59  29.0\n",
        "25  10  13  11  14  10   58  29.5\n",
        "21  12  11   9  15  11   58  24.5\n",
        "16  13   9  15  14   7   58  31.5\n",
        "33  11  12  15   8  12   58  34.5\n",
        "52  14  13   8  11  12   58  25.0"
       ]
      }
     ],
     "prompt_number": 39
    },
    {
     "cell_type": "markdown",
     "metadata": {},
     "source": [
      "##5.\u7528\u5be6\u969b\u8cc7\u6599\u4f86\u73a9Pandas\n",
      "##  Pandas Cookbook:  https://github.com/jvns/pandas-cookbook"
     ]
    },
    {
     "cell_type": "code",
     "collapsed": false,
     "input": [
      "df_bike = pd.read_csv(\"2012.csv\",index_col = \"Date\", parse_dates = True, dayfirst = True)"
     ],
     "language": "python",
     "metadata": {},
     "outputs": [],
     "prompt_number": 44
    },
    {
     "cell_type": "code",
     "collapsed": false,
     "input": [
      "df_bike.head()"
     ],
     "language": "python",
     "metadata": {},
     "outputs": [
      {
       "html": [
        "<div style=\"max-height:1000px;max-width:1500px;overflow:auto;\">\n",
        "<table border=\"1\" class=\"dataframe\">\n",
        "  <thead>\n",
        "    <tr style=\"text-align: right;\">\n",
        "      <th></th>\n",
        "      <th>Berri 1</th>\n",
        "      <th>Br\u00e9beuf (donn\u00e9es non disponibles)</th>\n",
        "      <th>C\u00f4te-Sainte-Catherine</th>\n",
        "      <th>Maisonneuve 1</th>\n",
        "      <th>Maisonneuve 2</th>\n",
        "      <th>du Parc</th>\n",
        "      <th>Pierre-Dupuy</th>\n",
        "      <th>Rachel1</th>\n",
        "      <th>St-Urbain (donn\u00e9es non disponibles)</th>\n",
        "    </tr>\n",
        "    <tr>\n",
        "      <th>Date</th>\n",
        "      <th></th>\n",
        "      <th></th>\n",
        "      <th></th>\n",
        "      <th></th>\n",
        "      <th></th>\n",
        "      <th></th>\n",
        "      <th></th>\n",
        "      <th></th>\n",
        "      <th></th>\n",
        "    </tr>\n",
        "  </thead>\n",
        "  <tbody>\n",
        "    <tr>\n",
        "      <th>2012-01-01</th>\n",
        "      <td>  35</td>\n",
        "      <td>NaN</td>\n",
        "      <td> 0</td>\n",
        "      <td>  38</td>\n",
        "      <td>  51</td>\n",
        "      <td>  26</td>\n",
        "      <td> 10</td>\n",
        "      <td> 16</td>\n",
        "      <td>NaN</td>\n",
        "    </tr>\n",
        "    <tr>\n",
        "      <th>2012-01-02</th>\n",
        "      <td>  83</td>\n",
        "      <td>NaN</td>\n",
        "      <td> 1</td>\n",
        "      <td>  68</td>\n",
        "      <td> 153</td>\n",
        "      <td>  53</td>\n",
        "      <td>  6</td>\n",
        "      <td> 43</td>\n",
        "      <td>NaN</td>\n",
        "    </tr>\n",
        "    <tr>\n",
        "      <th>2012-01-03</th>\n",
        "      <td> 135</td>\n",
        "      <td>NaN</td>\n",
        "      <td> 2</td>\n",
        "      <td> 104</td>\n",
        "      <td> 248</td>\n",
        "      <td>  89</td>\n",
        "      <td>  3</td>\n",
        "      <td> 58</td>\n",
        "      <td>NaN</td>\n",
        "    </tr>\n",
        "    <tr>\n",
        "      <th>2012-01-04</th>\n",
        "      <td> 144</td>\n",
        "      <td>NaN</td>\n",
        "      <td> 1</td>\n",
        "      <td> 116</td>\n",
        "      <td> 318</td>\n",
        "      <td> 111</td>\n",
        "      <td>  8</td>\n",
        "      <td> 61</td>\n",
        "      <td>NaN</td>\n",
        "    </tr>\n",
        "    <tr>\n",
        "      <th>2012-01-05</th>\n",
        "      <td> 197</td>\n",
        "      <td>NaN</td>\n",
        "      <td> 2</td>\n",
        "      <td> 124</td>\n",
        "      <td> 330</td>\n",
        "      <td>  97</td>\n",
        "      <td> 13</td>\n",
        "      <td> 95</td>\n",
        "      <td>NaN</td>\n",
        "    </tr>\n",
        "  </tbody>\n",
        "</table>\n",
        "</div>"
       ],
       "metadata": {},
       "output_type": "pyout",
       "prompt_number": 45,
       "text": [
        "            Berri 1  Br\u00e9beuf (donn\u00e9es non disponibles)  C\u00f4te-Sainte-Catherine  \\\n",
        "Date                                                                            \n",
        "2012-01-01       35                                NaN                      0   \n",
        "2012-01-02       83                                NaN                      1   \n",
        "2012-01-03      135                                NaN                      2   \n",
        "2012-01-04      144                                NaN                      1   \n",
        "2012-01-05      197                                NaN                      2   \n",
        "\n",
        "            Maisonneuve 1  Maisonneuve 2  du Parc  Pierre-Dupuy  Rachel1  \\\n",
        "Date                                                                       \n",
        "2012-01-01             38             51       26            10       16   \n",
        "2012-01-02             68            153       53             6       43   \n",
        "2012-01-03            104            248       89             3       58   \n",
        "2012-01-04            116            318      111             8       61   \n",
        "2012-01-05            124            330       97            13       95   \n",
        "\n",
        "            St-Urbain (donn\u00e9es non disponibles)  \n",
        "Date                                             \n",
        "2012-01-01                                  NaN  \n",
        "2012-01-02                                  NaN  \n",
        "2012-01-03                                  NaN  \n",
        "2012-01-04                                  NaN  \n",
        "2012-01-05                                  NaN  "
       ]
      }
     ],
     "prompt_number": 45
    },
    {
     "cell_type": "markdown",
     "metadata": {},
     "source": [
      "###\u7c21\u5316\u7248"
     ]
    },
    {
     "cell_type": "code",
     "collapsed": false,
     "input": [
      "df_sbike = df_bike[[\"Berri 1\", \"Maisonneuve 1\", \"Rachel1\"]]"
     ],
     "language": "python",
     "metadata": {},
     "outputs": [],
     "prompt_number": 50
    },
    {
     "cell_type": "code",
     "collapsed": false,
     "input": [
      "df_sbike.plot()"
     ],
     "language": "python",
     "metadata": {},
     "outputs": [
      {
       "metadata": {},
       "output_type": "pyout",
       "prompt_number": 51,
       "text": [
        "<matplotlib.axes.AxesSubplot at 0xc7fad30>"
       ]
      },
      {
       "metadata": {},
       "output_type": "display_data",
       "png": "[encoded data removed]",
       "text": [
        "<matplotlib.figure.Figure at 0xc008278>"
       ]
      }
     ],
     "prompt_number": 51
    },
    {
     "cell_type": "markdown",
     "metadata": {},
     "source": [
      "##Q1:\u54ea\u689d\u8def\u7dda\u6700\u53d7\u6b61\u8fce"
     ]
    },
    {
     "cell_type": "code",
     "collapsed": false,
     "input": [
      "df_sbike.mean()"
     ],
     "language": "python",
     "metadata": {},
     "outputs": [
      {
       "metadata": {},
       "output_type": "pyout",
       "prompt_number": 52,
       "text": [
        "Berri 1          2985.048387\n",
        "Maisonneuve 1    1983.325806\n",
        "Rachel1          2873.483871\n",
        "dtype: float64"
       ]
      }
     ],
     "prompt_number": 52
    },
    {
     "cell_type": "code",
     "collapsed": false,
     "input": [
      "df_sbike.mean().plot(kind = \"bar\")"
     ],
     "language": "python",
     "metadata": {},
     "outputs": [
      {
       "metadata": {},
       "output_type": "pyout",
       "prompt_number": 53,
       "text": [
        "<matplotlib.axes.AxesSubplot at 0xcc02ba8>"
       ]
      },
      {
       "metadata": {},
       "output_type": "display_data",
       "png": "[encoded data removed]",
       "text": [
        "<matplotlib.figure.Figure at 0xc558f98>"
       ]
      }
     ],
     "prompt_number": 53
    },
    {
     "cell_type": "code",
     "collapsed": false,
     "input": [
      "df_sbike.max()"
     ],
     "language": "python",
     "metadata": {},
     "outputs": [
      {
       "metadata": {},
       "output_type": "pyout",
       "prompt_number": 54,
       "text": [
        "Berri 1          7077\n",
        "Maisonneuve 1    4999\n",
        "Rachel1          6595\n",
        "dtype: int64"
       ]
      }
     ],
     "prompt_number": 54
    },
    {
     "cell_type": "code",
     "collapsed": false,
     "input": [
      "df_sbike.max().plot(kind = \"bar\")"
     ],
     "language": "python",
     "metadata": {},
     "outputs": [
      {
       "metadata": {},
       "output_type": "pyout",
       "prompt_number": 55,
       "text": [
        "<matplotlib.axes.AxesSubplot at 0xc9df908>"
       ]
      },
      {
       "metadata": {},
       "output_type": "display_data",
       "png": "[encoded data removed]",
       "text": [
        "<matplotlib.figure.Figure at 0xc757898>"
       ]
      }
     ],
     "prompt_number": 55
    },
    {
     "cell_type": "code",
     "collapsed": false,
     "input": [],
     "language": "python",
     "metadata": {},
     "outputs": []
    },
    {
     "cell_type": "code",
     "collapsed": false,
     "input": [
      "df_weather = pd.read_csv(\"weather_2012.csv\",index_col = \"Date/Time\", parse_dates = True)"
     ],
     "language": "python",
     "metadata": {},
     "outputs": [],
     "prompt_number": 42
    },
    {
     "cell_type": "code",
     "collapsed": false,
     "input": [
      "df_weather.head()"
     ],
     "language": "python",
     "metadata": {},
     "outputs": [
      {
       "html": [
        "<div style=\"max-height:1000px;max-width:1500px;overflow:auto;\">\n",
        "<table border=\"1\" class=\"dataframe\">\n",
        "  <thead>\n",
        "    <tr style=\"text-align: right;\">\n",
        "      <th></th>\n",
        "      <th>Temp (C)</th>\n",
        "      <th>Dew Point Temp (C)</th>\n",
        "      <th>Rel Hum (%)</th>\n",
        "      <th>Wind Spd (km/h)</th>\n",
        "      <th>Visibility (km)</th>\n",
        "      <th>Stn Press (kPa)</th>\n",
        "      <th>Weather</th>\n",
        "    </tr>\n",
        "    <tr>\n",
        "      <th>Date/Time</th>\n",
        "      <th></th>\n",
        "      <th></th>\n",
        "      <th></th>\n",
        "      <th></th>\n",
        "      <th></th>\n",
        "      <th></th>\n",
        "      <th></th>\n",
        "    </tr>\n",
        "  </thead>\n",
        "  <tbody>\n",
        "    <tr>\n",
        "      <th>2012-01-01 00:00:00</th>\n",
        "      <td>-1.8</td>\n",
        "      <td>-3.9</td>\n",
        "      <td> 86</td>\n",
        "      <td> 4</td>\n",
        "      <td> 8.0</td>\n",
        "      <td> 101.24</td>\n",
        "      <td>                  Fog</td>\n",
        "    </tr>\n",
        "    <tr>\n",
        "      <th>2012-01-01 01:00:00</th>\n",
        "      <td>-1.8</td>\n",
        "      <td>-3.7</td>\n",
        "      <td> 87</td>\n",
        "      <td> 4</td>\n",
        "      <td> 8.0</td>\n",
        "      <td> 101.24</td>\n",
        "      <td>                  Fog</td>\n",
        "    </tr>\n",
        "    <tr>\n",
        "      <th>2012-01-01 02:00:00</th>\n",
        "      <td>-1.8</td>\n",
        "      <td>-3.4</td>\n",
        "      <td> 89</td>\n",
        "      <td> 7</td>\n",
        "      <td> 4.0</td>\n",
        "      <td> 101.26</td>\n",
        "      <td> Freezing Drizzle,Fog</td>\n",
        "    </tr>\n",
        "    <tr>\n",
        "      <th>2012-01-01 03:00:00</th>\n",
        "      <td>-1.5</td>\n",
        "      <td>-3.2</td>\n",
        "      <td> 88</td>\n",
        "      <td> 6</td>\n",
        "      <td> 4.0</td>\n",
        "      <td> 101.27</td>\n",
        "      <td> Freezing Drizzle,Fog</td>\n",
        "    </tr>\n",
        "    <tr>\n",
        "      <th>2012-01-01 04:00:00</th>\n",
        "      <td>-1.5</td>\n",
        "      <td>-3.3</td>\n",
        "      <td> 88</td>\n",
        "      <td> 7</td>\n",
        "      <td> 4.8</td>\n",
        "      <td> 101.23</td>\n",
        "      <td>                  Fog</td>\n",
        "    </tr>\n",
        "  </tbody>\n",
        "</table>\n",
        "</div>"
       ],
       "metadata": {},
       "output_type": "pyout",
       "prompt_number": 43,
       "text": [
        "                     Temp (C)  Dew Point Temp (C)  Rel Hum (%)  \\\n",
        "Date/Time                                                        \n",
        "2012-01-01 00:00:00      -1.8                -3.9           86   \n",
        "2012-01-01 01:00:00      -1.8                -3.7           87   \n",
        "2012-01-01 02:00:00      -1.8                -3.4           89   \n",
        "2012-01-01 03:00:00      -1.5                -3.2           88   \n",
        "2012-01-01 04:00:00      -1.5                -3.3           88   \n",
        "\n",
        "                     Wind Spd (km/h)  Visibility (km)  Stn Press (kPa)  \\\n",
        "Date/Time                                                                \n",
        "2012-01-01 00:00:00                4              8.0           101.24   \n",
        "2012-01-01 01:00:00                4              8.0           101.24   \n",
        "2012-01-01 02:00:00                7              4.0           101.26   \n",
        "2012-01-01 03:00:00                6              4.0           101.27   \n",
        "2012-01-01 04:00:00                7              4.8           101.23   \n",
        "\n",
        "                                  Weather  \n",
        "Date/Time                                  \n",
        "2012-01-01 00:00:00                   Fog  \n",
        "2012-01-01 01:00:00                   Fog  \n",
        "2012-01-01 02:00:00  Freezing Drizzle,Fog  \n",
        "2012-01-01 03:00:00  Freezing Drizzle,Fog  \n",
        "2012-01-01 04:00:00                   Fog  "
       ]
      }
     ],
     "prompt_number": 43
    },
    {
     "cell_type": "code",
     "collapsed": false,
     "input": [
      "df_sbike[\"mean temp\"] = df_weather[\"Temp (C)\"].resample('D', how = mean)"
     ],
     "language": "python",
     "metadata": {},
     "outputs": [],
     "prompt_number": 56
    },
    {
     "cell_type": "code",
     "collapsed": false,
     "input": [
      "df_sbike.head()"
     ],
     "language": "python",
     "metadata": {},
     "outputs": [
      {
       "html": [
        "<div style=\"max-height:1000px;max-width:1500px;overflow:auto;\">\n",
        "<table border=\"1\" class=\"dataframe\">\n",
        "  <thead>\n",
        "    <tr style=\"text-align: right;\">\n",
        "      <th></th>\n",
        "      <th>Berri 1</th>\n",
        "      <th>Maisonneuve 1</th>\n",
        "      <th>Rachel1</th>\n",
        "      <th>mean temp</th>\n",
        "    </tr>\n",
        "    <tr>\n",
        "      <th>Date</th>\n",
        "      <th></th>\n",
        "      <th></th>\n",
        "      <th></th>\n",
        "      <th></th>\n",
        "    </tr>\n",
        "  </thead>\n",
        "  <tbody>\n",
        "    <tr>\n",
        "      <th>2012-01-01</th>\n",
        "      <td>  35</td>\n",
        "      <td>  38</td>\n",
        "      <td> 16</td>\n",
        "      <td>  0.629167</td>\n",
        "    </tr>\n",
        "    <tr>\n",
        "      <th>2012-01-02</th>\n",
        "      <td>  83</td>\n",
        "      <td>  68</td>\n",
        "      <td> 43</td>\n",
        "      <td>  0.041667</td>\n",
        "    </tr>\n",
        "    <tr>\n",
        "      <th>2012-01-03</th>\n",
        "      <td> 135</td>\n",
        "      <td> 104</td>\n",
        "      <td> 58</td>\n",
        "      <td>-14.416667</td>\n",
        "    </tr>\n",
        "    <tr>\n",
        "      <th>2012-01-04</th>\n",
        "      <td> 144</td>\n",
        "      <td> 116</td>\n",
        "      <td> 61</td>\n",
        "      <td>-13.645833</td>\n",
        "    </tr>\n",
        "    <tr>\n",
        "      <th>2012-01-05</th>\n",
        "      <td> 197</td>\n",
        "      <td> 124</td>\n",
        "      <td> 95</td>\n",
        "      <td> -6.750000</td>\n",
        "    </tr>\n",
        "  </tbody>\n",
        "</table>\n",
        "</div>"
       ],
       "metadata": {},
       "output_type": "pyout",
       "prompt_number": 57,
       "text": [
        "            Berri 1  Maisonneuve 1  Rachel1  mean temp\n",
        "Date                                                  \n",
        "2012-01-01       35             38       16   0.629167\n",
        "2012-01-02       83             68       43   0.041667\n",
        "2012-01-03      135            104       58 -14.416667\n",
        "2012-01-04      144            116       61 -13.645833\n",
        "2012-01-05      197            124       95  -6.750000"
       ]
      }
     ],
     "prompt_number": 57
    },
    {
     "cell_type": "code",
     "collapsed": false,
     "input": [
      "df_sbike[[\"Berri 1\", \"mean temp\"]].plot(subplots=True)"
     ],
     "language": "python",
     "metadata": {},
     "outputs": [
      {
       "metadata": {},
       "output_type": "pyout",
       "prompt_number": 58,
       "text": [
        "array([<matplotlib.axes.AxesSubplot object at 0x000000000C91E240>,\n",
        "       <matplotlib.axes.AxesSubplot object at 0x000000000DDD3AC8>], dtype=object)"
       ]
      },
      {
       "metadata": {},
       "output_type": "display_data",
       "png": "[encoded data removed]",
       "text": [
        "<matplotlib.figure.Figure at 0xc506ef0>"
       ]
      }
     ],
     "prompt_number": 58
    },
    {
     "cell_type": "markdown",
     "metadata": {},
     "source": [
      "##Q5:\u4e0b\u96e8\u5929\u5c31\u4e0d\u9a0e\u8eca\u4e86\u5427?"
     ]
    },
    {
     "cell_type": "code",
     "collapsed": false,
     "input": [
      "df_sbike[\"Rain\"] = df_weather[\"Weather\"].str.contains(\"Rain\").resample(\"D\", how=mean)"
     ],
     "language": "python",
     "metadata": {},
     "outputs": [
      {
       "output_type": "stream",
       "stream": "stderr",
       "text": [
        "-c:1: SettingWithCopyWarning: A value is trying to be set on a copy of a slice from a DataFrame.\n",
        "Try using .loc[row_index,col_indexer] = value instead\n"
       ]
      }
     ],
     "prompt_number": 61
    },
    {
     "cell_type": "code",
     "collapsed": false,
     "input": [
      "df_sbike[[\"Berri 1\", \"Rain\"]].plot(subplots=True)"
     ],
     "language": "python",
     "metadata": {},
     "outputs": [
      {
       "metadata": {},
       "output_type": "pyout",
       "prompt_number": 62,
       "text": [
        "array([<matplotlib.axes.AxesSubplot object at 0x000000000E2D1320>,\n",
        "       <matplotlib.axes.AxesSubplot object at 0x000000000F056A90>], dtype=object)"
       ]
      },
      {
       "metadata": {},
       "output_type": "display_data",
       "png": "[encoded data removed]",
       "text": [
        "<matplotlib.figure.Figure at 0xf0f2898>"
       ]
      }
     ],
     "prompt_number": 62
    },
    {
     "cell_type": "code",
     "collapsed": false,
     "input": [
      "df_sbike.head()"
     ],
     "language": "python",
     "metadata": {},
     "outputs": [
      {
       "html": [
        "<div style=\"max-height:1000px;max-width:1500px;overflow:auto;\">\n",
        "<table border=\"1\" class=\"dataframe\">\n",
        "  <thead>\n",
        "    <tr style=\"text-align: right;\">\n",
        "      <th></th>\n",
        "      <th>Berri 1</th>\n",
        "      <th>Maisonneuve 1</th>\n",
        "      <th>Rachel1</th>\n",
        "      <th>mean temp</th>\n",
        "      <th>Rain</th>\n",
        "    </tr>\n",
        "    <tr>\n",
        "      <th>Date</th>\n",
        "      <th></th>\n",
        "      <th></th>\n",
        "      <th></th>\n",
        "      <th></th>\n",
        "      <th></th>\n",
        "    </tr>\n",
        "  </thead>\n",
        "  <tbody>\n",
        "    <tr>\n",
        "      <th>2012-01-01</th>\n",
        "      <td>  35</td>\n",
        "      <td>  38</td>\n",
        "      <td> 16</td>\n",
        "      <td>  0.629167</td>\n",
        "      <td> 0.125000</td>\n",
        "    </tr>\n",
        "    <tr>\n",
        "      <th>2012-01-02</th>\n",
        "      <td>  83</td>\n",
        "      <td>  68</td>\n",
        "      <td> 43</td>\n",
        "      <td>  0.041667</td>\n",
        "      <td> 0.041667</td>\n",
        "    </tr>\n",
        "    <tr>\n",
        "      <th>2012-01-03</th>\n",
        "      <td> 135</td>\n",
        "      <td> 104</td>\n",
        "      <td> 58</td>\n",
        "      <td>-14.416667</td>\n",
        "      <td> 0.000000</td>\n",
        "    </tr>\n",
        "    <tr>\n",
        "      <th>2012-01-04</th>\n",
        "      <td> 144</td>\n",
        "      <td> 116</td>\n",
        "      <td> 61</td>\n",
        "      <td>-13.645833</td>\n",
        "      <td> 0.000000</td>\n",
        "    </tr>\n",
        "    <tr>\n",
        "      <th>2012-01-05</th>\n",
        "      <td> 197</td>\n",
        "      <td> 124</td>\n",
        "      <td> 95</td>\n",
        "      <td> -6.750000</td>\n",
        "      <td> 0.000000</td>\n",
        "    </tr>\n",
        "  </tbody>\n",
        "</table>\n",
        "</div>"
       ],
       "metadata": {},
       "output_type": "pyout",
       "prompt_number": 64,
       "text": [
        "            Berri 1  Maisonneuve 1  Rachel1  mean temp      Rain\n",
        "Date                                                            \n",
        "2012-01-01       35             38       16   0.629167  0.125000\n",
        "2012-01-02       83             68       43   0.041667  0.041667\n",
        "2012-01-03      135            104       58 -14.416667  0.000000\n",
        "2012-01-04      144            116       61 -13.645833  0.000000\n",
        "2012-01-05      197            124       95  -6.750000  0.000000"
       ]
      }
     ],
     "prompt_number": 64
    },
    {
     "cell_type": "markdown",
     "metadata": {},
     "source": [
      "##\u627e\u51fa\u65e5\u671f\u70ba\u661f\u671f\u5e7e"
     ]
    },
    {
     "cell_type": "code",
     "collapsed": false,
     "input": [
      "df_sbike.index.weekday"
     ],
     "language": "python",
     "metadata": {},
     "outputs": [
      {
       "metadata": {},
       "output_type": "pyout",
       "prompt_number": 65,
       "text": [
        "array([6, 0, 1, 2, 3, 4, 5, 6, 0, 1, 2, 3, 4, 5, 6, 0, 1, 2, 3, 4, 5, 6, 0,\n",
        "       1, 2, 3, 4, 5, 6, 0, 1, 2, 3, 4, 5, 6, 0, 1, 2, 3, 4, 5, 6, 0, 1, 2,\n",
        "       3, 4, 5, 6, 0, 1, 2, 3, 4, 5, 6, 0, 1, 2, 3, 4, 5, 6, 0, 1, 2, 3, 4,\n",
        "       5, 6, 0, 1, 2, 3, 4, 5, 6, 0, 1, 2, 3, 4, 5, 6, 0, 1, 2, 3, 4, 5, 6,\n",
        "       0, 1, 2, 3, 4, 5, 6, 0, 1, 2, 3, 4, 5, 6, 0, 1, 2, 3, 4, 5, 6, 0, 1,\n",
        "       2, 3, 4, 5, 6, 0, 1, 2, 3, 4, 5, 6, 0, 1, 2, 3, 4, 5, 6, 0, 1, 2, 3,\n",
        "       4, 5, 6, 0, 1, 2, 3, 4, 5, 6, 0, 1, 2, 3, 4, 5, 6, 0, 1, 2, 3, 4, 5,\n",
        "       6, 0, 1, 2, 3, 4, 5, 6, 0, 1, 2, 3, 4, 5, 6, 0, 1, 2, 3, 4, 5, 6, 0,\n",
        "       1, 2, 3, 4, 5, 6, 0, 1, 2, 3, 4, 5, 6, 0, 1, 2, 3, 4, 5, 6, 0, 1, 2,\n",
        "       3, 4, 5, 6, 0, 1, 2, 3, 4, 5, 6, 0, 1, 2, 3, 4, 5, 6, 0, 1, 2, 3, 4,\n",
        "       5, 6, 0, 1, 2, 3, 4, 5, 6, 0, 1, 2, 3, 4, 5, 6, 0, 1, 2, 3, 4, 5, 6,\n",
        "       0, 1, 2, 3, 4, 5, 6, 0, 1, 2, 3, 4, 5, 6, 0, 1, 2, 3, 4, 5, 6, 0, 1,\n",
        "       2, 3, 4, 5, 6, 0, 1, 2, 3, 4, 5, 6, 0, 1, 2, 3, 4, 5, 6, 0, 1, 2, 3,\n",
        "       4, 5, 6, 0, 1, 2, 3, 4, 5, 6, 0], dtype=int64)"
       ]
      }
     ],
     "prompt_number": 65
    },
    {
     "cell_type": "code",
     "collapsed": false,
     "input": [
      "df_sbike[\"weekday\"] = df_sbike.index.weekday"
     ],
     "language": "python",
     "metadata": {},
     "outputs": [],
     "prompt_number": 66
    },
    {
     "cell_type": "code",
     "collapsed": false,
     "input": [
      "df_sbike.head()"
     ],
     "language": "python",
     "metadata": {},
     "outputs": [
      {
       "html": [
        "<div style=\"max-height:1000px;max-width:1500px;overflow:auto;\">\n",
        "<table border=\"1\" class=\"dataframe\">\n",
        "  <thead>\n",
        "    <tr style=\"text-align: right;\">\n",
        "      <th></th>\n",
        "      <th>Berri 1</th>\n",
        "      <th>Maisonneuve 1</th>\n",
        "      <th>Rachel1</th>\n",
        "      <th>mean temp</th>\n",
        "      <th>Rain</th>\n",
        "      <th>weekday</th>\n",
        "    </tr>\n",
        "    <tr>\n",
        "      <th>Date</th>\n",
        "      <th></th>\n",
        "      <th></th>\n",
        "      <th></th>\n",
        "      <th></th>\n",
        "      <th></th>\n",
        "      <th></th>\n",
        "    </tr>\n",
        "  </thead>\n",
        "  <tbody>\n",
        "    <tr>\n",
        "      <th>2012-01-01</th>\n",
        "      <td>  35</td>\n",
        "      <td>  38</td>\n",
        "      <td> 16</td>\n",
        "      <td>  0.629167</td>\n",
        "      <td> 0.125000</td>\n",
        "      <td> 6</td>\n",
        "    </tr>\n",
        "    <tr>\n",
        "      <th>2012-01-02</th>\n",
        "      <td>  83</td>\n",
        "      <td>  68</td>\n",
        "      <td> 43</td>\n",
        "      <td>  0.041667</td>\n",
        "      <td> 0.041667</td>\n",
        "      <td> 0</td>\n",
        "    </tr>\n",
        "    <tr>\n",
        "      <th>2012-01-03</th>\n",
        "      <td> 135</td>\n",
        "      <td> 104</td>\n",
        "      <td> 58</td>\n",
        "      <td>-14.416667</td>\n",
        "      <td> 0.000000</td>\n",
        "      <td> 1</td>\n",
        "    </tr>\n",
        "    <tr>\n",
        "      <th>2012-01-04</th>\n",
        "      <td> 144</td>\n",
        "      <td> 116</td>\n",
        "      <td> 61</td>\n",
        "      <td>-13.645833</td>\n",
        "      <td> 0.000000</td>\n",
        "      <td> 2</td>\n",
        "    </tr>\n",
        "    <tr>\n",
        "      <th>2012-01-05</th>\n",
        "      <td> 197</td>\n",
        "      <td> 124</td>\n",
        "      <td> 95</td>\n",
        "      <td> -6.750000</td>\n",
        "      <td> 0.000000</td>\n",
        "      <td> 3</td>\n",
        "    </tr>\n",
        "  </tbody>\n",
        "</table>\n",
        "</div>"
       ],
       "metadata": {},
       "output_type": "pyout",
       "prompt_number": 67,
       "text": [
        "            Berri 1  Maisonneuve 1  Rachel1  mean temp      Rain  weekday\n",
        "Date                                                                     \n",
        "2012-01-01       35             38       16   0.629167  0.125000        6\n",
        "2012-01-02       83             68       43   0.041667  0.041667        0\n",
        "2012-01-03      135            104       58 -14.416667  0.000000        1\n",
        "2012-01-04      144            116       61 -13.645833  0.000000        2\n",
        "2012-01-05      197            124       95  -6.750000  0.000000        3"
       ]
      }
     ],
     "prompt_number": 67
    },
    {
     "cell_type": "code",
     "collapsed": false,
     "input": [
      "berri = df_sbike[[\"Berri 1\", \"weekday\"]]"
     ],
     "language": "python",
     "metadata": {},
     "outputs": [],
     "prompt_number": 68
    },
    {
     "cell_type": "code",
     "collapsed": false,
     "input": [
      "berri.head()"
     ],
     "language": "python",
     "metadata": {},
     "outputs": [
      {
       "html": [
        "<div style=\"max-height:1000px;max-width:1500px;overflow:auto;\">\n",
        "<table border=\"1\" class=\"dataframe\">\n",
        "  <thead>\n",
        "    <tr style=\"text-align: right;\">\n",
        "      <th></th>\n",
        "      <th>Berri 1</th>\n",
        "      <th>weekday</th>\n",
        "    </tr>\n",
        "    <tr>\n",
        "      <th>Date</th>\n",
        "      <th></th>\n",
        "      <th></th>\n",
        "    </tr>\n",
        "  </thead>\n",
        "  <tbody>\n",
        "    <tr>\n",
        "      <th>2012-01-01</th>\n",
        "      <td>  35</td>\n",
        "      <td> 6</td>\n",
        "    </tr>\n",
        "    <tr>\n",
        "      <th>2012-01-02</th>\n",
        "      <td>  83</td>\n",
        "      <td> 0</td>\n",
        "    </tr>\n",
        "    <tr>\n",
        "      <th>2012-01-03</th>\n",
        "      <td> 135</td>\n",
        "      <td> 1</td>\n",
        "    </tr>\n",
        "    <tr>\n",
        "      <th>2012-01-04</th>\n",
        "      <td> 144</td>\n",
        "      <td> 2</td>\n",
        "    </tr>\n",
        "    <tr>\n",
        "      <th>2012-01-05</th>\n",
        "      <td> 197</td>\n",
        "      <td> 3</td>\n",
        "    </tr>\n",
        "  </tbody>\n",
        "</table>\n",
        "</div>"
       ],
       "metadata": {},
       "output_type": "pyout",
       "prompt_number": 69,
       "text": [
        "            Berri 1  weekday\n",
        "Date                        \n",
        "2012-01-01       35        6\n",
        "2012-01-02       83        0\n",
        "2012-01-03      135        1\n",
        "2012-01-04      144        2\n",
        "2012-01-05      197        3"
       ]
      }
     ],
     "prompt_number": 69
    },
    {
     "cell_type": "code",
     "collapsed": false,
     "input": [
      "weekday_counts = berri.groupby(\"weekday\").aggregate(sum)"
     ],
     "language": "python",
     "metadata": {},
     "outputs": [],
     "prompt_number": 71
    },
    {
     "cell_type": "code",
     "collapsed": false,
     "input": [
      "weekday_counts"
     ],
     "language": "python",
     "metadata": {},
     "outputs": [
      {
       "html": [
        "<div style=\"max-height:1000px;max-width:1500px;overflow:auto;\">\n",
        "<table border=\"1\" class=\"dataframe\">\n",
        "  <thead>\n",
        "    <tr style=\"text-align: right;\">\n",
        "      <th></th>\n",
        "      <th>Berri 1</th>\n",
        "    </tr>\n",
        "    <tr>\n",
        "      <th>weekday</th>\n",
        "      <th></th>\n",
        "    </tr>\n",
        "  </thead>\n",
        "  <tbody>\n",
        "    <tr>\n",
        "      <th>0</th>\n",
        "      <td> 134298</td>\n",
        "    </tr>\n",
        "    <tr>\n",
        "      <th>1</th>\n",
        "      <td> 135305</td>\n",
        "    </tr>\n",
        "    <tr>\n",
        "      <th>2</th>\n",
        "      <td> 152972</td>\n",
        "    </tr>\n",
        "    <tr>\n",
        "      <th>3</th>\n",
        "      <td> 160131</td>\n",
        "    </tr>\n",
        "    <tr>\n",
        "      <th>4</th>\n",
        "      <td> 141771</td>\n",
        "    </tr>\n",
        "    <tr>\n",
        "      <th>5</th>\n",
        "      <td> 101578</td>\n",
        "    </tr>\n",
        "    <tr>\n",
        "      <th>6</th>\n",
        "      <td>  99310</td>\n",
        "    </tr>\n",
        "  </tbody>\n",
        "</table>\n",
        "</div>"
       ],
       "metadata": {},
       "output_type": "pyout",
       "prompt_number": 72,
       "text": [
        "         Berri 1\n",
        "weekday         \n",
        "0         134298\n",
        "1         135305\n",
        "2         152972\n",
        "3         160131\n",
        "4         141771\n",
        "5         101578\n",
        "6          99310"
       ]
      }
     ],
     "prompt_number": 72
    },
    {
     "cell_type": "code",
     "collapsed": false,
     "input": [
      "weekday_counts.index = [\"Mon\", \"Tue\", \"Wed\", \"Thu\", \"Fri\", \"Sat\", \"Sun\"]"
     ],
     "language": "python",
     "metadata": {},
     "outputs": [],
     "prompt_number": 75
    },
    {
     "cell_type": "code",
     "collapsed": false,
     "input": [
      "weekday_counts"
     ],
     "language": "python",
     "metadata": {},
     "outputs": [
      {
       "html": [
        "<div style=\"max-height:1000px;max-width:1500px;overflow:auto;\">\n",
        "<table border=\"1\" class=\"dataframe\">\n",
        "  <thead>\n",
        "    <tr style=\"text-align: right;\">\n",
        "      <th></th>\n",
        "      <th>Berri 1</th>\n",
        "    </tr>\n",
        "  </thead>\n",
        "  <tbody>\n",
        "    <tr>\n",
        "      <th>Mon</th>\n",
        "      <td> 134298</td>\n",
        "    </tr>\n",
        "    <tr>\n",
        "      <th>Tue</th>\n",
        "      <td> 135305</td>\n",
        "    </tr>\n",
        "    <tr>\n",
        "      <th>Wed</th>\n",
        "      <td> 152972</td>\n",
        "    </tr>\n",
        "    <tr>\n",
        "      <th>Thu</th>\n",
        "      <td> 160131</td>\n",
        "    </tr>\n",
        "    <tr>\n",
        "      <th>Fri</th>\n",
        "      <td> 141771</td>\n",
        "    </tr>\n",
        "    <tr>\n",
        "      <th>Sat</th>\n",
        "      <td> 101578</td>\n",
        "    </tr>\n",
        "    <tr>\n",
        "      <th>Sun</th>\n",
        "      <td>  99310</td>\n",
        "    </tr>\n",
        "  </tbody>\n",
        "</table>\n",
        "</div>"
       ],
       "metadata": {},
       "output_type": "pyout",
       "prompt_number": 76,
       "text": [
        "     Berri 1\n",
        "Mon   134298\n",
        "Tue   135305\n",
        "Wed   152972\n",
        "Thu   160131\n",
        "Fri   141771\n",
        "Sat   101578\n",
        "Sun    99310"
       ]
      }
     ],
     "prompt_number": 76
    },
    {
     "cell_type": "code",
     "collapsed": false,
     "input": [
      "weekday_counts.plot(kind = 'bar')"
     ],
     "language": "python",
     "metadata": {},
     "outputs": [
      {
       "metadata": {},
       "output_type": "pyout",
       "prompt_number": 77,
       "text": [
        "<matplotlib.axes.AxesSubplot at 0xfe7d2e8>"
       ]
      },
      {
       "metadata": {},
       "output_type": "display_data",
       "png": "[encoded data removed]",
       "text": [
        "<matplotlib.figure.Figure at 0xfdaddd8>"
       ]
      }
     ],
     "prompt_number": 77
    },
    {
     "cell_type": "code",
     "collapsed": false,
     "input": [
      "df_sbike[\"Berri 1\"] < 80"
     ],
     "language": "python",
     "metadata": {},
     "outputs": [
      {
       "metadata": {},
       "output_type": "pyout",
       "prompt_number": 78,
       "text": [
        "Date\n",
        "2012-01-01     True\n",
        "2012-01-02    False\n",
        "2012-01-03    False\n",
        "2012-01-04    False\n",
        "2012-01-05    False\n",
        "2012-01-06    False\n",
        "2012-01-07    False\n",
        "2012-01-08    False\n",
        "2012-01-09    False\n",
        "2012-01-10    False\n",
        "2012-01-11    False\n",
        "2012-01-12    False\n",
        "2012-01-13     True\n",
        "2012-01-14     True\n",
        "2012-01-15     True\n",
        "...\n",
        "2012-10-22    False\n",
        "2012-10-23    False\n",
        "2012-10-24    False\n",
        "2012-10-25    False\n",
        "2012-10-26    False\n",
        "2012-10-27    False\n",
        "2012-10-28    False\n",
        "2012-10-29    False\n",
        "2012-10-30    False\n",
        "2012-10-31    False\n",
        "2012-11-01    False\n",
        "2012-11-02    False\n",
        "2012-11-03    False\n",
        "2012-11-04    False\n",
        "2012-11-05    False\n",
        "Name: Berri 1, Length: 310"
       ]
      }
     ],
     "prompt_number": 78
    },
    {
     "cell_type": "code",
     "collapsed": false,
     "input": [
      "weekday_mean = berri.groupby(\"weekday\").aggregate(mean)"
     ],
     "language": "python",
     "metadata": {},
     "outputs": [],
     "prompt_number": 80
    },
    {
     "cell_type": "code",
     "collapsed": false,
     "input": [
      "weekday_mean.head(7)"
     ],
     "language": "python",
     "metadata": {},
     "outputs": [
      {
       "html": [
        "<div style=\"max-height:1000px;max-width:1500px;overflow:auto;\">\n",
        "<table border=\"1\" class=\"dataframe\">\n",
        "  <thead>\n",
        "    <tr style=\"text-align: right;\">\n",
        "      <th></th>\n",
        "      <th>Berri 1</th>\n",
        "    </tr>\n",
        "  </thead>\n",
        "  <tbody>\n",
        "    <tr>\n",
        "      <th>Mon</th>\n",
        "      <td> 2984.400000</td>\n",
        "    </tr>\n",
        "    <tr>\n",
        "      <th>Tue</th>\n",
        "      <td> 3075.113636</td>\n",
        "    </tr>\n",
        "    <tr>\n",
        "      <th>Wed</th>\n",
        "      <td> 3476.636364</td>\n",
        "    </tr>\n",
        "    <tr>\n",
        "      <th>Thu</th>\n",
        "      <td> 3639.340909</td>\n",
        "    </tr>\n",
        "    <tr>\n",
        "      <th>Fri</th>\n",
        "      <td> 3222.068182</td>\n",
        "    </tr>\n",
        "    <tr>\n",
        "      <th>Sat</th>\n",
        "      <td> 2308.590909</td>\n",
        "    </tr>\n",
        "    <tr>\n",
        "      <th>Sun</th>\n",
        "      <td> 2206.888889</td>\n",
        "    </tr>\n",
        "  </tbody>\n",
        "</table>\n",
        "</div>"
       ],
       "metadata": {},
       "output_type": "pyout",
       "prompt_number": 85,
       "text": [
        "         Berri 1\n",
        "Mon  2984.400000\n",
        "Tue  3075.113636\n",
        "Wed  3476.636364\n",
        "Thu  3639.340909\n",
        "Fri  3222.068182\n",
        "Sat  2308.590909\n",
        "Sun  2206.888889"
       ]
      }
     ],
     "prompt_number": 85
    },
    {
     "cell_type": "code",
     "collapsed": false,
     "input": [
      "weekday_mean.index = [\"Mon\", \"Tue\", \"Wed\", \"Thu\", \"Fri\", \"Sat\", \"Sun\"]"
     ],
     "language": "python",
     "metadata": {},
     "outputs": [],
     "prompt_number": 82
    },
    {
     "cell_type": "code",
     "collapsed": false,
     "input": [
      "weekday_mean.head(7)"
     ],
     "language": "python",
     "metadata": {},
     "outputs": [
      {
       "html": [
        "<div style=\"max-height:1000px;max-width:1500px;overflow:auto;\">\n",
        "<table border=\"1\" class=\"dataframe\">\n",
        "  <thead>\n",
        "    <tr style=\"text-align: right;\">\n",
        "      <th></th>\n",
        "      <th>Berri 1</th>\n",
        "    </tr>\n",
        "  </thead>\n",
        "  <tbody>\n",
        "    <tr>\n",
        "      <th>Mon</th>\n",
        "      <td> 2984.400000</td>\n",
        "    </tr>\n",
        "    <tr>\n",
        "      <th>Tue</th>\n",
        "      <td> 3075.113636</td>\n",
        "    </tr>\n",
        "    <tr>\n",
        "      <th>Wed</th>\n",
        "      <td> 3476.636364</td>\n",
        "    </tr>\n",
        "    <tr>\n",
        "      <th>Thu</th>\n",
        "      <td> 3639.340909</td>\n",
        "    </tr>\n",
        "    <tr>\n",
        "      <th>Fri</th>\n",
        "      <td> 3222.068182</td>\n",
        "    </tr>\n",
        "    <tr>\n",
        "      <th>Sat</th>\n",
        "      <td> 2308.590909</td>\n",
        "    </tr>\n",
        "    <tr>\n",
        "      <th>Sun</th>\n",
        "      <td> 2206.888889</td>\n",
        "    </tr>\n",
        "  </tbody>\n",
        "</table>\n",
        "</div>"
       ],
       "metadata": {},
       "output_type": "pyout",
       "prompt_number": 84,
       "text": [
        "         Berri 1\n",
        "Mon  2984.400000\n",
        "Tue  3075.113636\n",
        "Wed  3476.636364\n",
        "Thu  3639.340909\n",
        "Fri  3222.068182\n",
        "Sat  2308.590909\n",
        "Sun  2206.888889"
       ]
      }
     ],
     "prompt_number": 84
    },
    {
     "cell_type": "code",
     "collapsed": false,
     "input": [
      "weekday_mean.plot(kind = 'bar')"
     ],
     "language": "python",
     "metadata": {},
     "outputs": [
      {
       "metadata": {},
       "output_type": "pyout",
       "prompt_number": 86,
       "text": [
        "<matplotlib.axes.AxesSubplot at 0x10465710>"
       ]
      },
      {
       "metadata": {},
       "output_type": "display_data",
       "png": "[encoded data removed]",
       "text": [
        "<matplotlib.figure.Figure at 0x1048d7b8>"
       ]
      }
     ],
     "prompt_number": 86
    },
    {
     "cell_type": "markdown",
     "metadata": {},
     "source": [
      "##Call youtube \u5f71\u7247\n"
     ]
    },
    {
     "cell_type": "code",
     "collapsed": false,
     "input": [
      "from IPython.display import YouTubeVideo\n",
      "YouTubeVideo(\"Lksm2NceLz0\")"
     ],
     "language": "python",
     "metadata": {},
     "outputs": [
      {
       "html": [
        "\n",
        "        <iframe\n",
        "            width=\"400\"\n",
        "            height=300\"\n",
        "            src=\"https://www.youtube.com/embed/Lksm2NceLz0\"\n",
        "            frameborder=\"0\"\n",
        "            allowfullscreen\n",
        "        ></iframe>\n",
        "        "
       ],
       "metadata": {},
       "output_type": "pyout",
       "prompt_number": 87,
       "text": [
        "<IPython.lib.display.YouTubeVideo at 0xfd947b8>"
       ]
      }
     ],
     "prompt_number": 87
    },
    {
     "cell_type": "code",
     "collapsed": false,
     "input": [],
     "language": "python",
     "metadata": {},
     "outputs": []
    }
   ],
   "metadata": {}
  }
 ]
}