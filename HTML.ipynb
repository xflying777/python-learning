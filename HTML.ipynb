{
 "metadata": {
  "name": "",
  "signature": "sha256:419f3e33e5435649770425f49c12cb22f283822f86bd8f29162e0f972ea4ba98"
 },
 "nbformat": 3,
 "nbformat_minor": 0,
 "worksheets": [
  {
   "cells": [
    {
     "cell_type": "markdown",
     "metadata": {},
     "source": [
      "#\u5927\u6a19\u984c\n",
      "##\u6b21\u6a19\u984c\n",
      "\n",
      "\u6211\u60f3\u505a\u4e00\u500blist:\n",
      "\n",
      "  * Python\n",
      "  * HTML\n",
      "  * LaTeX\n",
      "  \n",
      "\u8a18\u5f97\uff0c \u6211\u5011\u5b78\u4e86\u5f88\u597d\u73a9\u7684<b style = \"color:red\">IPython</b>!!\n",
      "\n",
      "### inline \u6578\u5b78\u7b26\u865f\n",
      "\n",
      "\u6211\u60f3\u5b9a\u7fa9\u4e00\u500b\u51fd\u6578 $f(x) = 3x^2 - 2x + 5$\uff0c\u7136\u5f8c\u7b97\u4e00\u4e0b\u3002\n",
      "\n",
      "### display \u578b\u6578\u5b78\u5f0f\n",
      "\n",
      "\u6211\u60f3\u7b97\n",
      "\n",
      "$$\\alpha = \\int_1^e f(x) \\, dx $$\n",
      "\n",
      "webdemo.myscript.com\n",
      "\n",
      "$$\\int _{a}^{b}f\\left( x\\right) dx$$\n",
      "\n",
      "###\u8cc7\u6599\u8490\u96c6\u8b1b\u7fa9\n",
      "http://nbviewer.ipython.org/github/c3h3/NCCU-PyData-Courses-2013Spring/blob/master/Lecture1/crawler/Lecture2_WebCrawler.ipynb\n",
      "\n",
      "\u597d\u7528\u7684\u7de8\u8f2f\u5668\uff1aNotpad++"
     ]
    },
    {
     "cell_type": "markdown",
     "metadata": {},
     "source": []
    },
    {
     "cell_type": "code",
     "collapsed": false,
     "input": [
      "from IPython.display import YouTubeVideo\n",
      "YouTubeVideo(\"GlK2wlW2ih0\")"
     ],
     "language": "python",
     "metadata": {},
     "outputs": [
      {
       "html": [
        "\n",
        "        <iframe\n",
        "            width=\"400\"\n",
        "            height=300\"\n",
        "            src=\"https://www.youtube.com/embed/GlK2wlW2ih0\"\n",
        "            frameborder=\"0\"\n",
        "            allowfullscreen\n",
        "        ></iframe>\n",
        "        "
       ],
       "metadata": {},
       "output_type": "pyout",
       "prompt_number": 1,
       "text": [
        "<IPython.lib.display.YouTubeVideo at 0x3db1b38>"
       ]
      }
     ],
     "prompt_number": 1
    },
    {
     "cell_type": "code",
     "collapsed": false,
     "input": [],
     "language": "python",
     "metadata": {},
     "outputs": []
    }
   ],
   "metadata": {}
  }
 ]
}